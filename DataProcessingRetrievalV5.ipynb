{
  "nbformat": 4,
  "nbformat_minor": 0,
  "metadata": {
    "language_info": {
      "codemirror_mode": {
        "name": "ipython",
        "version": 3
      },
      "file_extension": ".py",
      "mimetype": "text/x-python",
      "name": "python",
      "nbconvert_exporter": "python",
      "pygments_lexer": "ipython3",
      "version": "3.8.8"
    },
    "orig_nbformat": 2,
    "kernelspec": {
      "name": "python388jvsc74a57bd0f82aa0917fc1d9f74e43b308994278e17c05675470959ef23ed45a89456b150f",
      "display_name": "Python 3.8.8 64-bit ('stupidconda': conda)"
    },
    "colab": {
      "name": "DataProcessingRetrievalV4.ipynb",
      "provenance": []
    }
  },
  "cells": [
    {
      "cell_type": "code",
      "metadata": {
        "id": "5weE6alWXRLD"
      },
      "source": [
        "import pandas as pd\n",
        "import re\n",
        "import math"
      ],
      "execution_count": null,
      "outputs": []
    },
    {
      "cell_type": "code",
      "metadata": {
        "id": "KlkGE_dYXRLH"
      },
      "source": [
        "file_dir='Copy of Riset Pasar Kaki Keenam (Responses).xlsx'"
      ],
      "execution_count": null,
      "outputs": []
    },
    {
      "cell_type": "code",
      "metadata": {
        "id": "oK2MBgnaXRLI"
      },
      "source": [
        "#Kasus spesial yg rada malesin kalo dibuat versi regexnya. Diganti saat dipecah per entry\n",
        "#specialcasefood={'cilok':'aci','cimol':'aci','cilor':'aci','cireng':'aci','cilung':'aci','cakwe':'gorengan lain','basreng':'gorengan lain','sate kikil':'sate','soto':'soto/sop/makanan berkuah lainnya','kebab turki':'kebab'}\n",
        "#array buat kasus khusus yg ribet diganti pake regex\n",
        "specialcasefood={'soto':'soto/sop/makanan berkuah lainnya'}\n",
        "specialcasedrink={}\n",
        "stupidcase=['etc','random','','wedang','cincau']"
      ],
      "execution_count": null,
      "outputs": []
    },
    {
      "cell_type": "code",
      "execution_count": null,
      "metadata": {},
      "outputs": [],
      "source": [
        "food_threshold=3\n",
        "drink_threshold=2"
      ]
    },
    {
      "cell_type": "code",
      "metadata": {
        "id": "PyoQ6gk8XRLK"
      },
      "source": [
        "data=pd.read_excel(file_dir)"
      ],
      "execution_count": null,
      "outputs": []
    },
    {
      "cell_type": "code",
      "metadata": {
        "id": "ETl4UDBiXRLL",
        "outputId": "cb061be0-7fbc-46cf-ed84-cd81fd578f39",
        "colab": {
          "base_uri": "https://localhost:8080/",
          "height": 1000
        }
      },
      "source": [
        "data"
      ],
      "execution_count": null,
      "outputs": []
    },
    {
      "cell_type": "code",
      "metadata": {
        "id": "kkD3vSguXRLO"
      },
      "source": [
        "#ambil baris data makanan\n",
        "foodarr=data['Kalau jajan di pedagang kecil, Kamu sukanya jajanan makanan apa? (Bisa isi lebih dari satu)'].str.lower().str.strip(' ')\n",
        "#regexing all the stupid entry\n",
        "foodarr=foodarr.replace(r\"ci[a-z]*\",\"gorengan kering\",regex=True)\n",
        "foodarr=foodarr.replace(r\"(cakwe|basreng)\",\"gorengan kering\",regex=True)\n",
        "foodarr=foodarr.replace(r\"sate[a-z ]*\",\"sate\",regex=True)\n",
        "#foodarr=foodarr.replace(r\"(soto [a-z ]*|sop [a-z ]*)\",\"soto/sop/makanan berkuah lainnya\",regex=True)\n",
        "foodarr=foodarr.replace(r\"kebab[a-z ]*\",\"kebab\",regex=True)\n",
        "foodarr=foodarr.replace(r\"soto$\",\"soto/sop/makanan berkuah lainnya\",regex=True)\n",
        "foodarr=foodarr.replace(r\"bala bala\",\"gorengan kering\",regex=True)\n",
        "foodarr=foodarr.replace(r\"lotek\",\"bakso/batagor/siomay\",regex=True)\n",
        "#burger, dimsum, kebab, macaroni, sosis, takoyaki = makanan luar negeri\n",
        "foodarr=foodarr.replace(r\"burger\",\"luar negeri\",regex=True)\n",
        "foodarr=foodarr.replace(r\"dimsum\",\"luar negeri\",regex=True)\n",
        "foodarr=foodarr.replace(r\"kebab\",\"luar negeri\",regex=True)\n",
        "foodarr=foodarr.replace(r\"macaroni\",\"luar negeri\",regex=True)\n",
        "foodarr=foodarr.replace(r\"sosis\",\"luar negeri\",regex=True)\n",
        "foodarr=foodarr.replace(r\"takoyaki\",\"luar negeri\",regex=True)\n",
        "#lumpia basah, seblak = gorengan basah\n",
        "foodarr=foodarr.replace(r\"lumpia basah\",\"gorengan basah\",regex=True)\n",
        "foodarr=foodarr.replace(r\"seblak\",\"gorengan basah\",regex=True)\n",
        "foodarr=foodarr.replace(r\"ayam bakar/goreng/fried chicken\",\"ayam\",regex=True)\n",
        "foodarr=foodarr.replace(r\"bakso/batagor/siomay\",\"bakso\",regex=True)\n",
        "foodarr=foodarr.replace(r\"buah potong/rujak\",\"buah\",regex=True)\n",
        "foodarr=foodarr.replace(r\"gorengan lain\",\"gorengan kering\",regex=True)\n",
        "foodarr=foodarr.replace(r\"kue-kue\",\"kue\",regex=True)\n",
        "foodarr=foodarr.replace(r\"mie-miean\",\"mie\",regex=True)\n",
        "foodarr=foodarr.replace(r\"nasi-nasian\",\"nasi\",regex=True)\n",
        "foodarr=foodarr.replace(r\"roti bakar/kukus\",\"roti\",regex=True)\n",
        "foodarr=foodarr.replace(r\"martabak\",\"kue\",regex=True)\n",
        "foodarr=foodarr.replace(r\"asinan\",\"buah\",regex=True)\n",
        "foodarr=foodarr.replace(r\"soto/sop/makanan berkuah lainnya\",\"berkuah\",regex=True)"
      ],
      "execution_count": null,
      "outputs": []
    },
    {
      "cell_type": "code",
      "metadata": {
        "id": "KbcQjdDsXRLP"
      },
      "source": [
        "#foodarr.unique()"
      ],
      "execution_count": null,
      "outputs": []
    },
    {
      "cell_type": "code",
      "metadata": {
        "id": "k92sQuYCXRLQ",
        "outputId": "5d6fe7e1-b173-4490-a3b9-63682da1665c",
        "colab": {
          "base_uri": "https://localhost:8080/"
        }
      },
      "source": [
        "#menghitung total makanan dari kuesioner ke dictionary\n",
        "fooddict={}\n",
        "z=0\n",
        "for i in foodarr:\n",
        "    #biar engga duplikat\n",
        "    temp=dict.fromkeys(i.split(', '))\n",
        "    if len(temp) < 3:\n",
        "      continue\n",
        "    z+=1\n",
        "    #split karena data terpisah oleh koma\n",
        "    for j in temp:\n",
        "        if j in stupidcase:\n",
        "            continue\n",
        "        if j not in specialcasefood:\n",
        "            if j in fooddict:\n",
        "                fooddict[j]=fooddict[j]+1\n",
        "            else:\n",
        "                fooddict[j]=1\n",
        "        else:\n",
        "            entry=specialcasefood[j]\n",
        "            if entry in fooddict:\n",
        "                fooddict[entry]=fooddict[entry]+1\n",
        "            else:\n",
        "                fooddict[entry]=1\n",
        "print(z)"
      ],
      "execution_count": null,
      "outputs": []
    },
    {
      "cell_type": "code",
      "metadata": {
        "id": "6pJ4HtAgXRLQ",
        "outputId": "cbde0adc-6618-4201-9d41-24b465158e1b",
        "colab": {
          "base_uri": "https://localhost:8080/"
        }
      },
      "source": [
        "#hasil disortir dari jumlah terbanyak\n",
        "dict(sorted(fooddict.items(), key=lambda item: item[1]))"
      ],
      "execution_count": null,
      "outputs": []
    },
    {
      "cell_type": "code",
      "metadata": {
        "id": "AHEjpBapa2yh"
      },
      "source": [
        "#aci, bala, = gorengan lain\n",
        "#fooddict['gorengan lain']+=fooddict.pop(\"aci\")\n",
        "#fooddict['gorengan lain']+=fooddict.pop(\"bala bala\")\n",
        "#dimsum,lotek = bakso/batagor/sioimay\n",
        "#fooddict['bakso/batagor/siomay']+=fooddict.pop(\"dimsum\")\n",
        "#fooddict['bakso/batagor/siomay']+=fooddict.pop(\"lotek\")\n",
        "#burger, dimsum, kebab, macaroni, sosis, takoyaki = makanan luar negeri\n",
        "#lumpia basah, seblak = gorengan basah\n",
        "#fooddict['gorengan basah']=7\n",
        "#fooddict['luar negeri']+=1\n",
        "#fooddict['bakso/batagor/siomay']-=1"
      ],
      "execution_count": null,
      "outputs": []
    },
    {
      "cell_type": "code",
      "metadata": {
        "id": "hktNhzODeASK",
        "outputId": "140cdfa9-b74e-4032-ba0b-2f2a534cefce",
        "colab": {
          "base_uri": "https://localhost:8080/"
        }
      },
      "source": [
        "#fooddict['ayam']=fooddict.pop('ayam bakar/goreng/fried chicken')\n",
        "#fooddict['bakso']=fooddict.pop('bakso/batagor/siomay')\n",
        "#fooddict['buah']=fooddict.pop('buah potong/rujak')#Buah potong bla bla = Buah\n",
        "#fooddict['gorengan kering']=fooddict.pop('gorengan lain')#gorengan lain = gorengan kering\n",
        "#fooddict['kue']=fooddict.pop(\"kue-kue\")# = kue\n",
        "#fooddict['mie']=fooddict.pop(\"mie-miean\")# = mie\n",
        "#fooddict['nasi']=fooddict.pop(\"nasi-nasian\")#  = nasi\n",
        "#fooddict['roti']=fooddict.pop(\"roti bakar/kukus\")# = roti\n",
        "#fooddict['berkuah']=fooddict.pop(\"soto/sop/makanan berkuah lainnya\")#soto/sop = berkuah\n",
        "dict(sorted(fooddict.items(), key=lambda item: item[1]))"
      ],
      "execution_count": null,
      "outputs": []
    },
    {
      "cell_type": "code",
      "metadata": {
        "id": "uWgj_DudXRLR"
      },
      "source": [
        "#buat kategori makanan yang terindex\n",
        "food_cat=pd.CategoricalIndex(fooddict)\n",
        "#ubah makanan dari nama ke angka\n",
        "hotencoded_foodarr=[]\n",
        "for i in foodarr:\n",
        "    temparr=[]\n",
        "    temp=dict.fromkeys(i.split(', '))\n",
        "    if len(temp) < food_threshold:\n",
        "        hotencoded_foodarr.append([])\n",
        "        continue\n",
        "    for j in food_cat:\n",
        "        if j in i.split(', '):\n",
        "            temparr.append(1)\n",
        "        else:\n",
        "            temparr.append(0)\n",
        "    hotencoded_foodarr.append(temparr)"
      ],
      "execution_count": null,
      "outputs": []
    },
    {
      "cell_type": "markdown",
      "metadata": {
        "id": "xIsWh7doXRLS"
      },
      "source": [
        "MINUMAN"
      ]
    },
    {
      "cell_type": "code",
      "metadata": {
        "id": "WZRTPq_QXRLT"
      },
      "source": [
        "#ambil baris data makanan\n",
        "drinkarr=data['Kalau jajan di pedagang kecil, Kamu sukanya minuman apa? (Bisa isi lebih dari satu)'].str.lower().str.strip(' ')\n",
        "#drinkarr.unique()\n",
        "#cleaning all the different entry\n",
        "drinkarr=drinkarr.replace(r\"wedang[a-z ]*\",\"wedang\",regex=True)\n",
        "drinkarr=drinkarr.replace(r\"(air[a-z ]*|mineral[a-z ]*|aqua[a-z ]*)\",\"air mineral\",regex=True)\n",
        "drinkarr=drinkarr.replace(r\"([a-z][a-z ]*latte[a-z ]*|capucino[a-z ]*)\",\"kopi\",regex=True)\n",
        "drinkarr=drinkarr.replace(r\"[a-z][a-z ]*jeruk\",\"jus buah\",regex=True)\n",
        "drinkarr=drinkarr.replace(r\"teh[a-z ]*\",\"teh\",regex=True)\n",
        "drinkarr=drinkarr.replace(r\"(pop ice|minuman saset)\",\"soda/soft drink\",regex=True)\n",
        "drinkarr=drinkarr.replace(r\"es boba\",\"bubble tea\",regex=True)\n",
        "drinkarr=drinkarr.replace(r\"susu[a-z ]*\",\"susu\",regex=True)\n",
        "drinkarr=drinkarr.replace(r\"(es degan[a-z ]*|es kelapa[a-z ]*)\",\"air kelapa\",regex=True)\n",
        "drinkarr=drinkarr.replace(r\"random\",\"\",regex=True)\n",
        "drinkarr=drinkarr.replace(r\"hi\",\"\",regex=True)\n",
        "drinkarr=drinkarr.replace(r\"soda/soft drink\",\"soft drink\",regex=True)"
      ],
      "execution_count": null,
      "outputs": []
    },
    {
      "cell_type": "code",
      "metadata": {
        "id": "zYrLTFXXXRLU"
      },
      "source": [
        "#drinkarr"
      ],
      "execution_count": null,
      "outputs": []
    },
    {
      "cell_type": "code",
      "metadata": {
        "id": "n60_J9odXRLU"
      },
      "source": [
        "drinkdict={}\n",
        "for i in drinkarr:\n",
        "    #biar engga duplikat\n",
        "    temp=dict.fromkeys(i.split(', '))\n",
        "    if len(temp)<drink_threshold:\n",
        "      continue\n",
        "    for j in temp:\n",
        "        if j in stupidcase:\n",
        "            continue\n",
        "        if j not in specialcasedrink:\n",
        "            if j in drinkdict:\n",
        "                drinkdict[j]=drinkdict[j]+1\n",
        "            else:\n",
        "                drinkdict[j]=1\n",
        "        else:\n",
        "            entry=specialcasedrink[j]\n",
        "            if entry in drinkdict:\n",
        "                drinkdict[entry]=drinkdict[entry]+1\n",
        "            else:\n",
        "                drinkdict[entry]=1"
      ],
      "execution_count": null,
      "outputs": []
    },
    {
      "cell_type": "code",
      "metadata": {
        "id": "rWd0DyMVXRLV",
        "outputId": "58c9e31c-0a6b-4282-89ee-6413502d4466",
        "colab": {
          "base_uri": "https://localhost:8080/"
        }
      },
      "source": [
        "dict(sorted(drinkdict.items(), key=lambda item: item[1]))"
      ],
      "execution_count": null,
      "outputs": []
    },
    {
      "cell_type": "code",
      "metadata": {
        "id": "C8gSfI6iXRLW"
      },
      "source": [
        "drink_cat=pd.CategoricalIndex(drinkdict)"
      ],
      "execution_count": null,
      "outputs": []
    },
    {
      "cell_type": "code",
      "metadata": {
        "id": "4-GTVyBNXRLX"
      },
      "source": [
        "hotencoded_drinkarr=[]\n",
        "for i in drinkarr:\n",
        "    temparr=[]\n",
        "    temp=dict.fromkeys(i.split(', '))\n",
        "    if len(temp)<drink_threshold:\n",
        "        hotencoded_drinkarr.append([])\n",
        "        continue\n",
        "    for j in drink_cat:\n",
        "        if j in i.split(', '):\n",
        "            temparr.append(1)\n",
        "        else:\n",
        "            temparr.append(0)\n",
        "    hotencoded_drinkarr.append(temparr)"
      ],
      "execution_count": null,
      "outputs": []
    },
    {
      "cell_type": "code",
      "metadata": {
        "id": "Y2JGoS_KXRLZ",
        "outputId": "05d66816-e785-4d28-bf53-ec2c126b8311",
        "colab": {
          "base_uri": "https://localhost:8080/",
          "height": 480
        }
      },
      "source": [
        "label=[]\n",
        "rating=[]\n",
        "\n",
        "counter=0\n",
        "userarr=[]\n",
        "\n",
        "for i in range(len(hotencoded_foodarr)):\n",
        "    if len(hotencoded_foodarr[i])==0 or len(hotencoded_drinkarr[i])==0:\n",
        "        counter+=1\n",
        "        continue\n",
        "    for j in range(len(hotencoded_foodarr[i])):\n",
        "        label.append(food_cat[j])\n",
        "        if hotencoded_foodarr[i][j]:\n",
        "            rate=5\n",
        "        else:\n",
        "            rate=1\n",
        "        rating.append(rate)\n",
        "    for j in range(len(hotencoded_drinkarr[i])):\n",
        "        label.append(drink_cat[j])\n",
        "        if hotencoded_drinkarr[i][j]:\n",
        "            rate=5\n",
        "        else:\n",
        "            rate=1\n",
        "        rating.append(rate)\n",
        "    userarr.append(counter)\n",
        "    counter+=1"
      ],
      "execution_count": null,
      "outputs": []
    },
    {
      "cell_type": "code",
      "metadata": {
        "id": "antmd-rmXRLa"
      },
      "source": [
        "userid=[]\n",
        "total_cat=len(food_cat)+len(drink_cat)\n",
        "for i in range(len(label)):\n",
        "    userid.append(userarr[math.floor(i/total_cat)])"
      ],
      "execution_count": null,
      "outputs": []
    },
    {
      "cell_type": "code",
      "metadata": {
        "id": "7FMucxJYXRLa"
      },
      "source": [
        "output=pd.DataFrame([userid,label,rating]).T.rename({0:'userID',1:'movieID',2:'rating'},axis=1)"
      ],
      "execution_count": null,
      "outputs": []
    },
    {
      "cell_type": "code",
      "metadata": {
        "id": "vCJI7ukpXRLb"
      },
      "source": [
        "output.to_csv('RetrievalV5.csv',index=False)"
      ],
      "execution_count": null,
      "outputs": []
    }
  ]
}