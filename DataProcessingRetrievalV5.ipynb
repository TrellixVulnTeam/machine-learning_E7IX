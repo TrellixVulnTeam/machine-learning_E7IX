{
  "nbformat": 4,
  "nbformat_minor": 0,
  "metadata": {
    "language_info": {
      "codemirror_mode": {
        "name": "ipython",
        "version": 3
      },
      "file_extension": ".py",
      "mimetype": "text/x-python",
      "name": "python",
      "nbconvert_exporter": "python",
      "pygments_lexer": "ipython3",
      "version": "3.8.8"
    },
    "orig_nbformat": 2,
    "kernelspec": {
      "name": "python388jvsc74a57bd0f82aa0917fc1d9f74e43b308994278e17c05675470959ef23ed45a89456b150f",
      "display_name": "Python 3.8.8 64-bit ('stupidconda': conda)"
    },
    "colab": {
      "name": "DataProcessingRetrievalV4.ipynb",
      "provenance": []
    }
  },
  "cells": [
    {
      "cell_type": "code",
      "metadata": {
        "id": "5weE6alWXRLD"
      },
      "source": [
        "import pandas as pd\n",
        "import re\n",
        "import math"
      ],
      "execution_count": 89,
      "outputs": []
    },
    {
      "cell_type": "code",
      "metadata": {
        "id": "KlkGE_dYXRLH"
      },
      "source": [
        "file_dir='Copy of Riset Pasar Kaki Keenam (Responses).xlsx'"
      ],
      "execution_count": 90,
      "outputs": []
    },
    {
      "cell_type": "code",
      "metadata": {
        "id": "oK2MBgnaXRLI"
      },
      "source": [
        "#Kasus spesial yg rada malesin kalo dibuat versi regexnya. Diganti saat dipecah per entry\n",
        "#specialcasefood={'cilok':'aci','cimol':'aci','cilor':'aci','cireng':'aci','cilung':'aci','cakwe':'gorengan lain','basreng':'gorengan lain','sate kikil':'sate','soto':'soto/sop/makanan berkuah lainnya','kebab turki':'kebab'}\n",
        "#array buat kasus khusus yg ribet diganti pake regex\n",
        "specialcasefood={'soto':'soto/sop/makanan berkuah lainnya'}\n",
        "specialcasedrink={}\n",
        "stupidcase=['etc','random','','wedang','cincau']"
      ],
      "execution_count": 120,
      "outputs": []
    },
    {
      "cell_type": "code",
      "metadata": {
        "id": "PyoQ6gk8XRLK"
      },
      "source": [
        "data=pd.read_excel(file_dir)"
      ],
      "execution_count": 92,
      "outputs": []
    },
    {
      "cell_type": "code",
      "metadata": {
        "id": "ETl4UDBiXRLL",
        "outputId": "cb061be0-7fbc-46cf-ed84-cd81fd578f39",
        "colab": {
          "base_uri": "https://localhost:8080/",
          "height": 1000
        }
      },
      "source": [
        "data"
      ],
      "execution_count": 93,
      "outputs": [
        {
          "output_type": "execute_result",
          "data": {
            "text/html": [
              "<div>\n",
              "<style scoped>\n",
              "    .dataframe tbody tr th:only-of-type {\n",
              "        vertical-align: middle;\n",
              "    }\n",
              "\n",
              "    .dataframe tbody tr th {\n",
              "        vertical-align: top;\n",
              "    }\n",
              "\n",
              "    .dataframe thead th {\n",
              "        text-align: right;\n",
              "    }\n",
              "</style>\n",
              "<table border=\"1\" class=\"dataframe\">\n",
              "  <thead>\n",
              "    <tr style=\"text-align: right;\">\n",
              "      <th></th>\n",
              "      <th>Timestamp</th>\n",
              "      <th>Usia</th>\n",
              "      <th>Kota/Kabupaten Domisili</th>\n",
              "      <th>Kamu lebih suka jajan di restoran/cafe, pedagang kecil atau dari aplikasi online?</th>\n",
              "      <th>Seberapa sering kamu jajan dipinggir jalan?</th>\n",
              "      <th>Kalau jajan di pedagang kecil, biasanya di penjual seperti apa?</th>\n",
              "      <th>Kalau jajan di pedagang kecil, Kamu sukanya jajanan makanan apa? (Bisa isi lebih dari satu)</th>\n",
              "      <th>Kalau jajan di pedagang kecil, Kamu sukanya minuman apa? (Bisa isi lebih dari satu)</th>\n",
              "      <th>Apakah kamu tertarik mendukung pedagang kecil disekelilingmu?</th>\n",
              "      <th>Apakah kamu pernah ingin jajan tapi tidak jadi karena suatu alasan? Alasannya apa?</th>\n",
              "      <th>Apakah kamu punya tempat jajan kecil yang kamu berlangganan?</th>\n",
              "      <th>Menurut kamu, apakah kamu akan lebih sering jajan jika ada aplikasi yang memberitahu kamu jika ada jajanan enak disekitarmu?</th>\n",
              "      <th>Menurut kamu, apakah kamu akan lebih sering jajan jika aplikasi tersebut memberitahu kamu jika jajanan kamu berkualitas atau tidak?</th>\n",
              "      <th>Apakah tertarik juga untuk berpartisipasi menjadi penjual disana ?</th>\n",
              "    </tr>\n",
              "  </thead>\n",
              "  <tbody>\n",
              "    <tr>\n",
              "      <th>0</th>\n",
              "      <td>2021-05-15 08:08:31.854</td>\n",
              "      <td>20 - 30 tahun</td>\n",
              "      <td>Dompu</td>\n",
              "      <td>Pedagang kecil (Kaki lima/kedai pinggir jalan)</td>\n",
              "      <td>3-5 kali seminggu</td>\n",
              "      <td>Kedai/Pedagang menetap</td>\n",
              "      <td>Sosis</td>\n",
              "      <td>Teh</td>\n",
              "      <td>Ya</td>\n",
              "      <td>Tidak pernah</td>\n",
              "      <td>Ya</td>\n",
              "      <td>Ya</td>\n",
              "      <td>Ya</td>\n",
              "      <td>Tidak</td>\n",
              "    </tr>\n",
              "    <tr>\n",
              "      <th>1</th>\n",
              "      <td>2021-05-15 15:44:23.585</td>\n",
              "      <td>20 - 30 tahun</td>\n",
              "      <td>Bandar Lampung</td>\n",
              "      <td>Aplikasi online</td>\n",
              "      <td>1-2 kali seminggu</td>\n",
              "      <td>Keliling, Kedai/Pedagang menetap</td>\n",
              "      <td>Nasi goreng, Mie kuah, nasi-nasian, Mie-miean,...</td>\n",
              "      <td>Cendol, Es Campur, Bubble Tea, Susu, Jus Buah</td>\n",
              "      <td>Ya</td>\n",
              "      <td>Tidak tahu tempat jajan dimana, Tidak tahu mau...</td>\n",
              "      <td>Ya</td>\n",
              "      <td>Ya</td>\n",
              "      <td>Ya</td>\n",
              "      <td>Tidak</td>\n",
              "    </tr>\n",
              "    <tr>\n",
              "      <th>2</th>\n",
              "      <td>2021-05-15 15:46:54.095</td>\n",
              "      <td>20 - 30 tahun</td>\n",
              "      <td>Jakarta</td>\n",
              "      <td>Restoran/Cafe</td>\n",
              "      <td>3-5 kali seminggu</td>\n",
              "      <td>Kedai/Pedagang menetap</td>\n",
              "      <td>Nasi goreng, nasi-nasian, Mie-miean, Bakso/Bat...</td>\n",
              "      <td>Soda/Soft Drink, Susu</td>\n",
              "      <td>Ya</td>\n",
              "      <td>Tidak tahu tempat jajan dimana</td>\n",
              "      <td>Ya</td>\n",
              "      <td>Ya</td>\n",
              "      <td>Ya</td>\n",
              "      <td>Tidak</td>\n",
              "    </tr>\n",
              "    <tr>\n",
              "      <th>3</th>\n",
              "      <td>2021-05-15 16:12:30.533</td>\n",
              "      <td>20 - 30 tahun</td>\n",
              "      <td>Bandung</td>\n",
              "      <td>Pedagang kecil (Kaki lima/kedai pinggir jalan)</td>\n",
              "      <td>3-5 kali seminggu</td>\n",
              "      <td>Keliling, Kedai/Pedagang menetap</td>\n",
              "      <td>Nasi goreng, Mie-miean, Bakso/Batagor/Siomay, ...</td>\n",
              "      <td>Cendol, Es Campur, Es Doger, Teh, Bubble Tea, ...</td>\n",
              "      <td>Ya</td>\n",
              "      <td>Tidak tahu mau jajan apa, Tidak jadi karena pe...</td>\n",
              "      <td>Ya</td>\n",
              "      <td>Ya</td>\n",
              "      <td>Ya</td>\n",
              "      <td>Tidak</td>\n",
              "    </tr>\n",
              "    <tr>\n",
              "      <th>4</th>\n",
              "      <td>2021-05-15 20:29:56.333</td>\n",
              "      <td>20 - 30 tahun</td>\n",
              "      <td>Bandung</td>\n",
              "      <td>Pedagang kecil (Kaki lima/kedai pinggir jalan)</td>\n",
              "      <td>3-5 kali seminggu</td>\n",
              "      <td>Keliling, Kedai/Pedagang menetap</td>\n",
              "      <td>Nasi goreng, Ayam Bakar/Goreng/Fried Chicken, ...</td>\n",
              "      <td>Teh, Jus Buah</td>\n",
              "      <td>Ya</td>\n",
              "      <td>Tidak tahu tempat jajan dimana, Tidak tahu mau...</td>\n",
              "      <td>Tidak</td>\n",
              "      <td>Ya</td>\n",
              "      <td>Ya</td>\n",
              "      <td>Ya</td>\n",
              "    </tr>\n",
              "    <tr>\n",
              "      <th>...</th>\n",
              "      <td>...</td>\n",
              "      <td>...</td>\n",
              "      <td>...</td>\n",
              "      <td>...</td>\n",
              "      <td>...</td>\n",
              "      <td>...</td>\n",
              "      <td>...</td>\n",
              "      <td>...</td>\n",
              "      <td>...</td>\n",
              "      <td>...</td>\n",
              "      <td>...</td>\n",
              "      <td>...</td>\n",
              "      <td>...</td>\n",
              "      <td>...</td>\n",
              "    </tr>\n",
              "    <tr>\n",
              "      <th>211</th>\n",
              "      <td>2021-06-04 04:38:18.207</td>\n",
              "      <td>40 - 50 tahun</td>\n",
              "      <td>Malang</td>\n",
              "      <td>Pedagang kecil (Kaki lima/kedai pinggir jalan)</td>\n",
              "      <td>3-5 kali seminggu</td>\n",
              "      <td>Kedai/Pedagang menetap</td>\n",
              "      <td>Nasi goreng, Mie-miean, Ayam Bakar/Goreng/Frie...</td>\n",
              "      <td>Teh, Bubble Tea, Soda/Soft Drink, Susu, Jus Buah</td>\n",
              "      <td>Ya</td>\n",
              "      <td>Tidak jadi jajan karenanya penjualnya tidak ku...</td>\n",
              "      <td>Ya</td>\n",
              "      <td>Ya</td>\n",
              "      <td>Ya</td>\n",
              "      <td>Ya</td>\n",
              "    </tr>\n",
              "    <tr>\n",
              "      <th>212</th>\n",
              "      <td>2021-06-04 14:53:26.979</td>\n",
              "      <td>50 - 60 tahun</td>\n",
              "      <td>Bandung</td>\n",
              "      <td>Pedagang kecil (Kaki lima/kedai pinggir jalan)</td>\n",
              "      <td>Setiap Hari</td>\n",
              "      <td>Keliling, Kedai/Pedagang menetap</td>\n",
              "      <td>Nasi goreng, Bakso/Batagor/Siomay, Bubur, Sate...</td>\n",
              "      <td>Cendol, Kopi, Jus Buah</td>\n",
              "      <td>Ya</td>\n",
              "      <td>Tidak jadi karena penjualnya terlalu jauh/g ad...</td>\n",
              "      <td>Ya</td>\n",
              "      <td>Ya</td>\n",
              "      <td>Ya</td>\n",
              "      <td>Ya</td>\n",
              "    </tr>\n",
              "    <tr>\n",
              "      <th>213</th>\n",
              "      <td>2021-06-04 14:55:26.280</td>\n",
              "      <td>30 - 40 tahun</td>\n",
              "      <td>Jakarta</td>\n",
              "      <td>Aplikasi online</td>\n",
              "      <td>1-2 kali seminggu</td>\n",
              "      <td>Keliling</td>\n",
              "      <td>Bakso/Batagor/Siomay, Kue-kue, Gorengan lain</td>\n",
              "      <td>Es Doger, Jus Buah</td>\n",
              "      <td>Ya</td>\n",
              "      <td>Tidak tahu tempat jajan dimana, Tidak jadi kar...</td>\n",
              "      <td>Ya</td>\n",
              "      <td>Ya</td>\n",
              "      <td>Ya</td>\n",
              "      <td>Tidak</td>\n",
              "    </tr>\n",
              "    <tr>\n",
              "      <th>214</th>\n",
              "      <td>2021-06-04 14:57:15.441</td>\n",
              "      <td>50 - 60 tahun</td>\n",
              "      <td>Bandung</td>\n",
              "      <td>Pedagang kecil (Kaki lima/kedai pinggir jalan)</td>\n",
              "      <td>&lt; 1 kali seminggu</td>\n",
              "      <td>Kedai/Pedagang menetap</td>\n",
              "      <td>Nasi goreng, Mie kuah, Bakso/Batagor/Siomay, B...</td>\n",
              "      <td>Teh</td>\n",
              "      <td>Ya</td>\n",
              "      <td>Tidak pernah</td>\n",
              "      <td>Ya</td>\n",
              "      <td>Ya</td>\n",
              "      <td>Ya</td>\n",
              "      <td>Tidak</td>\n",
              "    </tr>\n",
              "    <tr>\n",
              "      <th>215</th>\n",
              "      <td>2021-06-04 15:13:44.686</td>\n",
              "      <td>50 - 60 tahun</td>\n",
              "      <td>Bandung</td>\n",
              "      <td>Pedagang kecil (Kaki lima/kedai pinggir jalan)</td>\n",
              "      <td>&lt; 1 kali seminggu</td>\n",
              "      <td>Kedai/Pedagang menetap</td>\n",
              "      <td>Bakso/Batagor/Siomay, Gorengan lain, Soto/Sop/...</td>\n",
              "      <td>Es Campur, Es Doger</td>\n",
              "      <td>Ya</td>\n",
              "      <td>Tidak jadi karena penjualnya terlalu jauh/g ad...</td>\n",
              "      <td>Ya</td>\n",
              "      <td>Ya</td>\n",
              "      <td>Ya</td>\n",
              "      <td>Tidak</td>\n",
              "    </tr>\n",
              "  </tbody>\n",
              "</table>\n",
              "<p>216 rows × 14 columns</p>\n",
              "</div>"
            ],
            "text/plain": [
              "                  Timestamp  ... Apakah tertarik juga untuk berpartisipasi menjadi penjual disana ?\n",
              "0   2021-05-15 08:08:31.854  ...                                              Tidak                \n",
              "1   2021-05-15 15:44:23.585  ...                                              Tidak                \n",
              "2   2021-05-15 15:46:54.095  ...                                              Tidak                \n",
              "3   2021-05-15 16:12:30.533  ...                                              Tidak                \n",
              "4   2021-05-15 20:29:56.333  ...                                                 Ya                \n",
              "..                      ...  ...                                                ...                \n",
              "211 2021-06-04 04:38:18.207  ...                                                 Ya                \n",
              "212 2021-06-04 14:53:26.979  ...                                                 Ya                \n",
              "213 2021-06-04 14:55:26.280  ...                                              Tidak                \n",
              "214 2021-06-04 14:57:15.441  ...                                              Tidak                \n",
              "215 2021-06-04 15:13:44.686  ...                                              Tidak                \n",
              "\n",
              "[216 rows x 14 columns]"
            ]
          },
          "metadata": {
            "tags": []
          },
          "execution_count": 73
        },
        {
          "output_type": "execute_result",
          "data": {
            "text/html": [
              "<div>\n",
              "<style scoped>\n",
              "    .dataframe tbody tr th:only-of-type {\n",
              "        vertical-align: middle;\n",
              "    }\n",
              "\n",
              "    .dataframe tbody tr th {\n",
              "        vertical-align: top;\n",
              "    }\n",
              "\n",
              "    .dataframe thead th {\n",
              "        text-align: right;\n",
              "    }\n",
              "</style>\n",
              "<table border=\"1\" class=\"dataframe\">\n",
              "  <thead>\n",
              "    <tr style=\"text-align: right;\">\n",
              "      <th></th>\n",
              "      <th>Timestamp</th>\n",
              "      <th>Usia</th>\n",
              "      <th>Kota/Kabupaten Domisili</th>\n",
              "      <th>Kamu lebih suka jajan di restoran/cafe, pedagang kecil atau dari aplikasi online?</th>\n",
              "      <th>Seberapa sering kamu jajan dipinggir jalan?</th>\n",
              "      <th>Kalau jajan di pedagang kecil, biasanya di penjual seperti apa?</th>\n",
              "      <th>Kalau jajan di pedagang kecil, Kamu sukanya jajanan makanan apa? (Bisa isi lebih dari satu)</th>\n",
              "      <th>Kalau jajan di pedagang kecil, Kamu sukanya minuman apa? (Bisa isi lebih dari satu)</th>\n",
              "      <th>Apakah kamu tertarik mendukung pedagang kecil disekelilingmu?</th>\n",
              "      <th>Apakah kamu pernah ingin jajan tapi tidak jadi karena suatu alasan? Alasannya apa?</th>\n",
              "      <th>Apakah kamu punya tempat jajan kecil yang kamu berlangganan?</th>\n",
              "      <th>Menurut kamu, apakah kamu akan lebih sering jajan jika ada aplikasi yang memberitahu kamu jika ada jajanan enak disekitarmu?</th>\n",
              "      <th>Menurut kamu, apakah kamu akan lebih sering jajan jika aplikasi tersebut memberitahu kamu jika jajanan kamu berkualitas atau tidak?</th>\n",
              "      <th>Apakah tertarik juga untuk berpartisipasi menjadi penjual disana ?</th>\n",
              "    </tr>\n",
              "  </thead>\n",
              "  <tbody>\n",
              "    <tr>\n",
              "      <th>0</th>\n",
              "      <td>2021-05-15 08:08:31.854</td>\n",
              "      <td>20 - 30 tahun</td>\n",
              "      <td>Dompu</td>\n",
              "      <td>Pedagang kecil (Kaki lima/kedai pinggir jalan)</td>\n",
              "      <td>3-5 kali seminggu</td>\n",
              "      <td>Kedai/Pedagang menetap</td>\n",
              "      <td>Sosis</td>\n",
              "      <td>Teh</td>\n",
              "      <td>Ya</td>\n",
              "      <td>Tidak pernah</td>\n",
              "      <td>Ya</td>\n",
              "      <td>Ya</td>\n",
              "      <td>Ya</td>\n",
              "      <td>Tidak</td>\n",
              "    </tr>\n",
              "    <tr>\n",
              "      <th>1</th>\n",
              "      <td>2021-05-15 15:44:23.585</td>\n",
              "      <td>20 - 30 tahun</td>\n",
              "      <td>Bandar Lampung</td>\n",
              "      <td>Aplikasi online</td>\n",
              "      <td>1-2 kali seminggu</td>\n",
              "      <td>Keliling, Kedai/Pedagang menetap</td>\n",
              "      <td>Nasi goreng, Mie kuah, nasi-nasian, Mie-miean,...</td>\n",
              "      <td>Cendol, Es Campur, Bubble Tea, Susu, Jus Buah</td>\n",
              "      <td>Ya</td>\n",
              "      <td>Tidak tahu tempat jajan dimana, Tidak tahu mau...</td>\n",
              "      <td>Ya</td>\n",
              "      <td>Ya</td>\n",
              "      <td>Ya</td>\n",
              "      <td>Tidak</td>\n",
              "    </tr>\n",
              "    <tr>\n",
              "      <th>2</th>\n",
              "      <td>2021-05-15 15:46:54.095</td>\n",
              "      <td>20 - 30 tahun</td>\n",
              "      <td>Jakarta</td>\n",
              "      <td>Restoran/Cafe</td>\n",
              "      <td>3-5 kali seminggu</td>\n",
              "      <td>Kedai/Pedagang menetap</td>\n",
              "      <td>Nasi goreng, nasi-nasian, Mie-miean, Bakso/Bat...</td>\n",
              "      <td>Soda/Soft Drink, Susu</td>\n",
              "      <td>Ya</td>\n",
              "      <td>Tidak tahu tempat jajan dimana</td>\n",
              "      <td>Ya</td>\n",
              "      <td>Ya</td>\n",
              "      <td>Ya</td>\n",
              "      <td>Tidak</td>\n",
              "    </tr>\n",
              "    <tr>\n",
              "      <th>3</th>\n",
              "      <td>2021-05-15 16:12:30.533</td>\n",
              "      <td>20 - 30 tahun</td>\n",
              "      <td>Bandung</td>\n",
              "      <td>Pedagang kecil (Kaki lima/kedai pinggir jalan)</td>\n",
              "      <td>3-5 kali seminggu</td>\n",
              "      <td>Keliling, Kedai/Pedagang menetap</td>\n",
              "      <td>Nasi goreng, Mie-miean, Bakso/Batagor/Siomay, ...</td>\n",
              "      <td>Cendol, Es Campur, Es Doger, Teh, Bubble Tea, ...</td>\n",
              "      <td>Ya</td>\n",
              "      <td>Tidak tahu mau jajan apa, Tidak jadi karena pe...</td>\n",
              "      <td>Ya</td>\n",
              "      <td>Ya</td>\n",
              "      <td>Ya</td>\n",
              "      <td>Tidak</td>\n",
              "    </tr>\n",
              "    <tr>\n",
              "      <th>4</th>\n",
              "      <td>2021-05-15 20:29:56.333</td>\n",
              "      <td>20 - 30 tahun</td>\n",
              "      <td>Bandung</td>\n",
              "      <td>Pedagang kecil (Kaki lima/kedai pinggir jalan)</td>\n",
              "      <td>3-5 kali seminggu</td>\n",
              "      <td>Keliling, Kedai/Pedagang menetap</td>\n",
              "      <td>Nasi goreng, Ayam Bakar/Goreng/Fried Chicken, ...</td>\n",
              "      <td>Teh, Jus Buah</td>\n",
              "      <td>Ya</td>\n",
              "      <td>Tidak tahu tempat jajan dimana, Tidak tahu mau...</td>\n",
              "      <td>Tidak</td>\n",
              "      <td>Ya</td>\n",
              "      <td>Ya</td>\n",
              "      <td>Ya</td>\n",
              "    </tr>\n",
              "    <tr>\n",
              "      <th>...</th>\n",
              "      <td>...</td>\n",
              "      <td>...</td>\n",
              "      <td>...</td>\n",
              "      <td>...</td>\n",
              "      <td>...</td>\n",
              "      <td>...</td>\n",
              "      <td>...</td>\n",
              "      <td>...</td>\n",
              "      <td>...</td>\n",
              "      <td>...</td>\n",
              "      <td>...</td>\n",
              "      <td>...</td>\n",
              "      <td>...</td>\n",
              "      <td>...</td>\n",
              "    </tr>\n",
              "    <tr>\n",
              "      <th>211</th>\n",
              "      <td>2021-06-04 04:38:18.207</td>\n",
              "      <td>40 - 50 tahun</td>\n",
              "      <td>Malang</td>\n",
              "      <td>Pedagang kecil (Kaki lima/kedai pinggir jalan)</td>\n",
              "      <td>3-5 kali seminggu</td>\n",
              "      <td>Kedai/Pedagang menetap</td>\n",
              "      <td>Nasi goreng, Mie-miean, Ayam Bakar/Goreng/Frie...</td>\n",
              "      <td>Teh, Bubble Tea, Soda/Soft Drink, Susu, Jus Buah</td>\n",
              "      <td>Ya</td>\n",
              "      <td>Tidak jadi jajan karenanya penjualnya tidak ku...</td>\n",
              "      <td>Ya</td>\n",
              "      <td>Ya</td>\n",
              "      <td>Ya</td>\n",
              "      <td>Ya</td>\n",
              "    </tr>\n",
              "    <tr>\n",
              "      <th>212</th>\n",
              "      <td>2021-06-04 14:53:26.979</td>\n",
              "      <td>50 - 60 tahun</td>\n",
              "      <td>Bandung</td>\n",
              "      <td>Pedagang kecil (Kaki lima/kedai pinggir jalan)</td>\n",
              "      <td>Setiap Hari</td>\n",
              "      <td>Keliling, Kedai/Pedagang menetap</td>\n",
              "      <td>Nasi goreng, Bakso/Batagor/Siomay, Bubur, Sate...</td>\n",
              "      <td>Cendol, Kopi, Jus Buah</td>\n",
              "      <td>Ya</td>\n",
              "      <td>Tidak jadi karena penjualnya terlalu jauh/g ad...</td>\n",
              "      <td>Ya</td>\n",
              "      <td>Ya</td>\n",
              "      <td>Ya</td>\n",
              "      <td>Ya</td>\n",
              "    </tr>\n",
              "    <tr>\n",
              "      <th>213</th>\n",
              "      <td>2021-06-04 14:55:26.280</td>\n",
              "      <td>30 - 40 tahun</td>\n",
              "      <td>Jakarta</td>\n",
              "      <td>Aplikasi online</td>\n",
              "      <td>1-2 kali seminggu</td>\n",
              "      <td>Keliling</td>\n",
              "      <td>Bakso/Batagor/Siomay, Kue-kue, Gorengan lain</td>\n",
              "      <td>Es Doger, Jus Buah</td>\n",
              "      <td>Ya</td>\n",
              "      <td>Tidak tahu tempat jajan dimana, Tidak jadi kar...</td>\n",
              "      <td>Ya</td>\n",
              "      <td>Ya</td>\n",
              "      <td>Ya</td>\n",
              "      <td>Tidak</td>\n",
              "    </tr>\n",
              "    <tr>\n",
              "      <th>214</th>\n",
              "      <td>2021-06-04 14:57:15.441</td>\n",
              "      <td>50 - 60 tahun</td>\n",
              "      <td>Bandung</td>\n",
              "      <td>Pedagang kecil (Kaki lima/kedai pinggir jalan)</td>\n",
              "      <td>&lt; 1 kali seminggu</td>\n",
              "      <td>Kedai/Pedagang menetap</td>\n",
              "      <td>Nasi goreng, Mie kuah, Bakso/Batagor/Siomay, B...</td>\n",
              "      <td>Teh</td>\n",
              "      <td>Ya</td>\n",
              "      <td>Tidak pernah</td>\n",
              "      <td>Ya</td>\n",
              "      <td>Ya</td>\n",
              "      <td>Ya</td>\n",
              "      <td>Tidak</td>\n",
              "    </tr>\n",
              "    <tr>\n",
              "      <th>215</th>\n",
              "      <td>2021-06-04 15:13:44.686</td>\n",
              "      <td>50 - 60 tahun</td>\n",
              "      <td>Bandung</td>\n",
              "      <td>Pedagang kecil (Kaki lima/kedai pinggir jalan)</td>\n",
              "      <td>&lt; 1 kali seminggu</td>\n",
              "      <td>Kedai/Pedagang menetap</td>\n",
              "      <td>Bakso/Batagor/Siomay, Gorengan lain, Soto/Sop/...</td>\n",
              "      <td>Es Campur, Es Doger</td>\n",
              "      <td>Ya</td>\n",
              "      <td>Tidak jadi karena penjualnya terlalu jauh/g ad...</td>\n",
              "      <td>Ya</td>\n",
              "      <td>Ya</td>\n",
              "      <td>Ya</td>\n",
              "      <td>Tidak</td>\n",
              "    </tr>\n",
              "  </tbody>\n",
              "</table>\n",
              "<p>216 rows × 14 columns</p>\n",
              "</div>"
            ],
            "text/plain": [
              "                  Timestamp  ... Apakah tertarik juga untuk berpartisipasi menjadi penjual disana ?\n",
              "0   2021-05-15 08:08:31.854  ...                                              Tidak                \n",
              "1   2021-05-15 15:44:23.585  ...                                              Tidak                \n",
              "2   2021-05-15 15:46:54.095  ...                                              Tidak                \n",
              "3   2021-05-15 16:12:30.533  ...                                              Tidak                \n",
              "4   2021-05-15 20:29:56.333  ...                                                 Ya                \n",
              "..                      ...  ...                                                ...                \n",
              "211 2021-06-04 04:38:18.207  ...                                                 Ya                \n",
              "212 2021-06-04 14:53:26.979  ...                                                 Ya                \n",
              "213 2021-06-04 14:55:26.280  ...                                              Tidak                \n",
              "214 2021-06-04 14:57:15.441  ...                                              Tidak                \n",
              "215 2021-06-04 15:13:44.686  ...                                              Tidak                \n",
              "\n",
              "[216 rows x 14 columns]"
            ]
          },
          "metadata": {
            "tags": []
          },
          "execution_count": 93
        }
      ]
    },
    {
      "cell_type": "code",
      "metadata": {
        "id": "kkD3vSguXRLO"
      },
      "source": [
        "#ambil baris data makanan\n",
        "foodarr=data['Kalau jajan di pedagang kecil, Kamu sukanya jajanan makanan apa? (Bisa isi lebih dari satu)'].str.lower().str.strip(' ')\n",
        "#regexing all the stupid entry\n",
        "foodarr=foodarr.replace(r\"ci[a-z]*\",\"gorengan kering\",regex=True)\n",
        "foodarr=foodarr.replace(r\"(cakwe|basreng)\",\"gorengan kering\",regex=True)\n",
        "foodarr=foodarr.replace(r\"sate[a-z ]*\",\"sate\",regex=True)\n",
        "#foodarr=foodarr.replace(r\"(soto [a-z ]*|sop [a-z ]*)\",\"soto/sop/makanan berkuah lainnya\",regex=True)\n",
        "foodarr=foodarr.replace(r\"kebab[a-z ]*\",\"kebab\",regex=True)\n",
        "foodarr=foodarr.replace(r\"soto$\",\"soto/sop/makanan berkuah lainnya\",regex=True)\n",
        "foodarr=foodarr.replace(r\"bala bala\",\"gorengan kering\",regex=True)\n",
        "foodarr=foodarr.replace(r\"lotek\",\"bakso/batagor/siomay\",regex=True)\n",
        "#burger, dimsum, kebab, macaroni, sosis, takoyaki = makanan luar negeri\n",
        "foodarr=foodarr.replace(r\"burger\",\"luar negeri\",regex=True)\n",
        "foodarr=foodarr.replace(r\"dimsum\",\"luar negeri\",regex=True)\n",
        "foodarr=foodarr.replace(r\"kebab\",\"luar negeri\",regex=True)\n",
        "foodarr=foodarr.replace(r\"macaroni\",\"luar negeri\",regex=True)\n",
        "foodarr=foodarr.replace(r\"sosis\",\"luar negeri\",regex=True)\n",
        "foodarr=foodarr.replace(r\"takoyaki\",\"luar negeri\",regex=True)\n",
        "#lumpia basah, seblak = gorengan basah\n",
        "foodarr=foodarr.replace(r\"lumpia basah\",\"gorengan basah\",regex=True)\n",
        "foodarr=foodarr.replace(r\"seblak\",\"gorengan basah\",regex=True)\n",
        "foodarr=foodarr.replace(r\"ayam bakar/goreng/fried chicken\",\"ayam\",regex=True)\n",
        "foodarr=foodarr.replace(r\"bakso/batagor/siomay\",\"bakso\",regex=True)\n",
        "foodarr=foodarr.replace(r\"buah potong/rujak\",\"buah\",regex=True)\n",
        "foodarr=foodarr.replace(r\"gorengan lain\",\"gorengan kering\",regex=True)\n",
        "foodarr=foodarr.replace(r\"kue-kue\",\"kue\",regex=True)\n",
        "foodarr=foodarr.replace(r\"mie-miean\",\"mie\",regex=True)\n",
        "foodarr=foodarr.replace(r\"nasi-nasian\",\"nasi\",regex=True)\n",
        "foodarr=foodarr.replace(r\"roti bakar/kukus\",\"roti\",regex=True)\n",
        "foodarr=foodarr.replace(r\"martabak\",\"kue\",regex=True)\n",
        "foodarr=foodarr.replace(r\"asinan\",\"buah\",regex=True)\n",
        "foodarr=foodarr.replace(r\"soto/sop/makanan berkuah lainnya\",\"berkuah\",regex=True)"
      ],
      "execution_count": 114,
      "outputs": []
    },
    {
      "cell_type": "code",
      "metadata": {
        "id": "KbcQjdDsXRLP"
      },
      "source": [
        "#foodarr.unique()"
      ],
      "execution_count": 95,
      "outputs": []
    },
    {
      "cell_type": "code",
      "metadata": {
        "id": "k92sQuYCXRLQ",
        "outputId": "5d6fe7e1-b173-4490-a3b9-63682da1665c",
        "colab": {
          "base_uri": "https://localhost:8080/"
        }
      },
      "source": [
        "#menghitung total makanan dari kuesioner ke dictionary\n",
        "fooddict={}\n",
        "z=0\n",
        "for i in foodarr:\n",
        "    #biar engga duplikat\n",
        "    temp=dict.fromkeys(i.split(', '))\n",
        "    if len(temp) < 3:\n",
        "      continue\n",
        "    z+=1\n",
        "    #split karena data terpisah oleh koma\n",
        "    for j in temp:\n",
        "        if j in stupidcase:\n",
        "            continue\n",
        "        if j not in specialcasefood:\n",
        "            if j in fooddict:\n",
        "                fooddict[j]=fooddict[j]+1\n",
        "            else:\n",
        "                fooddict[j]=1\n",
        "        else:\n",
        "            entry=specialcasefood[j]\n",
        "            if entry in fooddict:\n",
        "                fooddict[entry]=fooddict[entry]+1\n",
        "            else:\n",
        "                fooddict[entry]=1\n",
        "print(z)"
      ],
      "execution_count": 115,
      "outputs": [
        {
          "output_type": "stream",
          "text": [
            "201\n"
          ],
          "name": "stdout"
        }
      ]
    },
    {
      "cell_type": "code",
      "metadata": {
        "id": "6pJ4HtAgXRLQ",
        "outputId": "cbde0adc-6618-4201-9d41-24b465158e1b",
        "colab": {
          "base_uri": "https://localhost:8080/"
        }
      },
      "source": [
        "#hasil disortir dari jumlah terbanyak\n",
        "dict(sorted(fooddict.items(), key=lambda item: item[1]))"
      ],
      "execution_count": 118,
      "outputs": [
        {
          "output_type": "execute_result",
          "data": {
            "text/plain": [
              "{'ayam': 95,\n",
              " 'bakso': 161,\n",
              " 'berkuah': 41,\n",
              " 'buah': 51,\n",
              " 'bubur': 105,\n",
              " 'es krim': 43,\n",
              " 'gorengan basah': 6,\n",
              " 'gorengan kering': 106,\n",
              " 'jagung': 19,\n",
              " 'kacang': 15,\n",
              " 'kue': 70,\n",
              " 'luar negeri': 6,\n",
              " 'mie': 96,\n",
              " 'mie kuah': 57,\n",
              " 'nasi': 46,\n",
              " 'nasi goreng': 149,\n",
              " 'roti': 57,\n",
              " 'sate': 120,\n",
              " 'tahu': 48,\n",
              " 'ubi': 16}"
            ]
          },
          "metadata": {
            "tags": []
          },
          "execution_count": 118
        }
      ]
    },
    {
      "cell_type": "code",
      "metadata": {
        "id": "AHEjpBapa2yh"
      },
      "source": [
        "#aci, bala, = gorengan lain\n",
        "#fooddict['gorengan lain']+=fooddict.pop(\"aci\")\n",
        "#fooddict['gorengan lain']+=fooddict.pop(\"bala bala\")\n",
        "#dimsum,lotek = bakso/batagor/sioimay\n",
        "#fooddict['bakso/batagor/siomay']+=fooddict.pop(\"dimsum\")\n",
        "#fooddict['bakso/batagor/siomay']+=fooddict.pop(\"lotek\")\n",
        "#burger, dimsum, kebab, macaroni, sosis, takoyaki = makanan luar negeri\n",
        "#lumpia basah, seblak = gorengan basah\n",
        "#fooddict['gorengan basah']=7\n",
        "#fooddict['luar negeri']+=1\n",
        "#fooddict['bakso/batagor/siomay']-=1"
      ],
      "execution_count": 98,
      "outputs": []
    },
    {
      "cell_type": "code",
      "metadata": {
        "id": "hktNhzODeASK",
        "outputId": "140cdfa9-b74e-4032-ba0b-2f2a534cefce",
        "colab": {
          "base_uri": "https://localhost:8080/"
        }
      },
      "source": [
        "#fooddict['ayam']=fooddict.pop('ayam bakar/goreng/fried chicken')\n",
        "#fooddict['bakso']=fooddict.pop('bakso/batagor/siomay')\n",
        "#fooddict['buah']=fooddict.pop('buah potong/rujak')#Buah potong bla bla = Buah\n",
        "#fooddict['gorengan kering']=fooddict.pop('gorengan lain')#gorengan lain = gorengan kering\n",
        "#fooddict['kue']=fooddict.pop(\"kue-kue\")# = kue\n",
        "#fooddict['mie']=fooddict.pop(\"mie-miean\")# = mie\n",
        "#fooddict['nasi']=fooddict.pop(\"nasi-nasian\")#  = nasi\n",
        "#fooddict['roti']=fooddict.pop(\"roti bakar/kukus\")# = roti\n",
        "#fooddict['berkuah']=fooddict.pop(\"soto/sop/makanan berkuah lainnya\")#soto/sop = berkuah\n",
        "dict(sorted(fooddict.items(), key=lambda item: item[1]))"
      ],
      "execution_count": 99,
      "outputs": [
        {
          "output_type": "execute_result",
          "data": {
            "text/plain": [
              "{'asinan': 1,\n",
              " 'ayam': 95,\n",
              " 'bakso': 161,\n",
              " 'berkuah': 41,\n",
              " 'buah': 50,\n",
              " 'bubur': 105,\n",
              " 'es krim': 43,\n",
              " 'gorengan basah': 6,\n",
              " 'gorengan kering': 106,\n",
              " 'jagung': 19,\n",
              " 'kacang': 15,\n",
              " 'kue': 68,\n",
              " 'luar negeri': 6,\n",
              " 'martabak': 2,\n",
              " 'mie': 96,\n",
              " 'mie kuah': 57,\n",
              " 'nasi': 46,\n",
              " 'nasi goreng': 149,\n",
              " 'roti': 57,\n",
              " 'sate': 120,\n",
              " 'tahu': 48,\n",
              " 'ubi': 16}"
            ]
          },
          "metadata": {
            "tags": []
          },
          "execution_count": 79
        },
        {
          "output_type": "execute_result",
          "data": {
            "text/plain": [
              "{'asinan': 1,\n",
              " 'ayam': 95,\n",
              " 'bakso': 161,\n",
              " 'berkuah': 41,\n",
              " 'buah': 50,\n",
              " 'bubur': 105,\n",
              " 'es krim': 43,\n",
              " 'gorengan basah': 6,\n",
              " 'gorengan kering': 106,\n",
              " 'jagung': 19,\n",
              " 'kacang': 15,\n",
              " 'kue': 68,\n",
              " 'luar negeri': 6,\n",
              " 'martabak': 2,\n",
              " 'mie': 96,\n",
              " 'mie kuah': 57,\n",
              " 'nasi': 46,\n",
              " 'nasi goreng': 149,\n",
              " 'roti': 57,\n",
              " 'sate': 120,\n",
              " 'tahu': 48,\n",
              " 'ubi': 16}"
            ]
          },
          "metadata": {
            "tags": []
          },
          "execution_count": 99
        }
      ]
    },
    {
      "cell_type": "code",
      "metadata": {
        "id": "uWgj_DudXRLR"
      },
      "source": [
        "#buat kategori makanan yang terindex\n",
        "food_cat=pd.CategoricalIndex(fooddict)\n",
        "#ubah makanan dari nama ke angka\n",
        "hotencoded_foodarr=[]\n",
        "for i in foodarr:\n",
        "    temparr=[]\n",
        "    for j in food_cat:\n",
        "        if j in i.split(', '):\n",
        "            temparr.append(1)\n",
        "        else:\n",
        "            temparr.append(0)\n",
        "    hotencoded_foodarr.append(temparr)"
      ],
      "execution_count": 100,
      "outputs": []
    },
    {
      "cell_type": "markdown",
      "metadata": {
        "id": "xIsWh7doXRLS"
      },
      "source": [
        "MINUMAN"
      ]
    },
    {
      "cell_type": "code",
      "metadata": {
        "id": "WZRTPq_QXRLT"
      },
      "source": [
        "#ambil baris data makanan\n",
        "drinkarr=data['Kalau jajan di pedagang kecil, Kamu sukanya minuman apa? (Bisa isi lebih dari satu)'].str.lower().str.strip(' ')\n",
        "#drinkarr.unique()\n",
        "#cleaning all the different entry\n",
        "drinkarr=drinkarr.replace(r\"wedang[a-z ]*\",\"wedang\",regex=True)\n",
        "drinkarr=drinkarr.replace(r\"(air[a-z ]*|mineral[a-z ]*|aqua[a-z ]*)\",\"air mineral\",regex=True)\n",
        "drinkarr=drinkarr.replace(r\"([a-z][a-z ]*latte[a-z ]*|capucino[a-z ]*)\",\"kopi\",regex=True)\n",
        "drinkarr=drinkarr.replace(r\"[a-z][a-z ]*jeruk\",\"jus buah\",regex=True)\n",
        "drinkarr=drinkarr.replace(r\"teh[a-z ]*\",\"teh\",regex=True)\n",
        "drinkarr=drinkarr.replace(r\"(pop ice|minuman saset)\",\"soda/soft drink\",regex=True)\n",
        "drinkarr=drinkarr.replace(r\"es boba\",\"bubble tea\",regex=True)\n",
        "drinkarr=drinkarr.replace(r\"susu[a-z ]*\",\"susu\",regex=True)\n",
        "drinkarr=drinkarr.replace(r\"(es degan[a-z ]*|es kelapa[a-z ]*)\",\"air kelapa\",regex=True)\n",
        "drinkarr=drinkarr.replace(r\"random\",\"\",regex=True)\n",
        "drinkarr=drinkarr.replace(r\"hi\",\"\",regex=True)\n",
        "drinkarr=drinkarr.replace(r\"soda/soft drink\",\"soft drink\",regex=True)"
      ],
      "execution_count": 121,
      "outputs": []
    },
    {
      "cell_type": "code",
      "metadata": {
        "id": "zYrLTFXXXRLU"
      },
      "source": [
        "#drinkarr"
      ],
      "execution_count": 102,
      "outputs": []
    },
    {
      "cell_type": "code",
      "metadata": {
        "id": "n60_J9odXRLU"
      },
      "source": [
        "drinkdict={}\n",
        "for i in drinkarr:\n",
        "    #biar engga duplikat\n",
        "    temp=dict.fromkeys(i.split(', '))\n",
        "    if len(temp)<2:\n",
        "      continue\n",
        "    for j in temp:\n",
        "        if j in stupidcase:\n",
        "            continue\n",
        "        if j not in specialcasedrink:\n",
        "            if j in drinkdict:\n",
        "                drinkdict[j]=drinkdict[j]+1\n",
        "            else:\n",
        "                drinkdict[j]=1\n",
        "        else:\n",
        "            entry=specialcasedrink[j]\n",
        "            if entry in drinkdict:\n",
        "                drinkdict[entry]=drinkdict[entry]+1\n",
        "            else:\n",
        "                drinkdict[entry]=1"
      ],
      "execution_count": 122,
      "outputs": []
    },
    {
      "cell_type": "code",
      "metadata": {
        "id": "rWd0DyMVXRLV",
        "outputId": "58c9e31c-0a6b-4282-89ee-6413502d4466",
        "colab": {
          "base_uri": "https://localhost:8080/"
        }
      },
      "source": [
        "dict(sorted(drinkdict.items(), key=lambda item: item[1]))"
      ],
      "execution_count": 125,
      "outputs": [
        {
          "output_type": "execute_result",
          "data": {
            "text/plain": [
              "{'air kelapa': 3,\n",
              " 'air mineral': 5,\n",
              " 'bubble tea': 56,\n",
              " 'cendol': 75,\n",
              " 'es campur': 74,\n",
              " 'es doger': 53,\n",
              " 'jus buah': 97,\n",
              " 'kopi': 46,\n",
              " 'soft drink': 40,\n",
              " 'susu': 68,\n",
              " 'teh': 76}"
            ]
          },
          "metadata": {
            "tags": []
          },
          "execution_count": 125
        }
      ]
    },
    {
      "cell_type": "code",
      "metadata": {
        "id": "C8gSfI6iXRLW"
      },
      "source": [
        "drink_cat=pd.CategoricalIndex(drinkdict)"
      ],
      "execution_count": 105,
      "outputs": []
    },
    {
      "cell_type": "code",
      "metadata": {
        "id": "4-GTVyBNXRLX"
      },
      "source": [
        "hotencoded_drinkarr=[]\n",
        "for i in drinkarr:\n",
        "    temparr=[]\n",
        "    temp=dict.fromkeys(i.split(', '))\n",
        "    if len(temp)<2:\n",
        "      continue\n",
        "    for j in drink_cat:\n",
        "        if j in i.split(', '):\n",
        "            temparr.append(1)\n",
        "        else:\n",
        "            temparr.append(0)\n",
        "    hotencoded_drinkarr.append(temparr)"
      ],
      "execution_count": 106,
      "outputs": []
    },
    {
      "cell_type": "code",
      "metadata": {
        "id": "Zz8UalTrXRLY",
        "outputId": "b16a3ffc-b76c-488d-d6e7-52d34c8ef354",
        "colab": {
          "base_uri": "https://localhost:8080/",
          "height": 211
        }
      },
      "source": [
        "dataarr=[]\n",
        "#if len(hotencoded_foodarr)==len(hotencoded_drinkarr):\n",
        "for i in range(max(len(hotencoded_foodarr)):\n",
        "  dataarr.append(hotencoded_foodarr[i]+hotencoded_drinkarr[i])"
      ],
      "execution_count": 109,
      "outputs": [
        {
          "output_type": "error",
          "ename": "IndexError",
          "evalue": "ignored",
          "traceback": [
            "\u001b[0;31m---------------------------------------------------------------------------\u001b[0m",
            "\u001b[0;31mIndexError\u001b[0m                                Traceback (most recent call last)",
            "\u001b[0;32m<ipython-input-109-2c53b869a709>\u001b[0m in \u001b[0;36m<module>\u001b[0;34m()\u001b[0m\n\u001b[1;32m      2\u001b[0m \u001b[0;31m#if len(hotencoded_foodarr)==len(hotencoded_drinkarr):\u001b[0m\u001b[0;34m\u001b[0m\u001b[0;34m\u001b[0m\u001b[0;34m\u001b[0m\u001b[0m\n\u001b[1;32m      3\u001b[0m \u001b[0;32mfor\u001b[0m \u001b[0mi\u001b[0m \u001b[0;32min\u001b[0m \u001b[0mrange\u001b[0m\u001b[0;34m(\u001b[0m\u001b[0mlen\u001b[0m\u001b[0;34m(\u001b[0m\u001b[0mhotencoded_foodarr\u001b[0m\u001b[0;34m)\u001b[0m\u001b[0;34m)\u001b[0m\u001b[0;34m:\u001b[0m\u001b[0;34m\u001b[0m\u001b[0;34m\u001b[0m\u001b[0m\n\u001b[0;32m----> 4\u001b[0;31m   \u001b[0mdataarr\u001b[0m\u001b[0;34m.\u001b[0m\u001b[0mappend\u001b[0m\u001b[0;34m(\u001b[0m\u001b[0mhotencoded_foodarr\u001b[0m\u001b[0;34m[\u001b[0m\u001b[0mi\u001b[0m\u001b[0;34m]\u001b[0m\u001b[0;34m+\u001b[0m\u001b[0mhotencoded_drinkarr\u001b[0m\u001b[0;34m[\u001b[0m\u001b[0mi\u001b[0m\u001b[0;34m]\u001b[0m\u001b[0;34m)\u001b[0m\u001b[0;34m\u001b[0m\u001b[0;34m\u001b[0m\u001b[0m\n\u001b[0m",
            "\u001b[0;31mIndexError\u001b[0m: list index out of range"
          ]
        }
      ]
    },
    {
      "cell_type": "code",
      "metadata": {
        "id": "Y2JGoS_KXRLZ",
        "outputId": "05d66816-e785-4d28-bf53-ec2c126b8311",
        "colab": {
          "base_uri": "https://localhost:8080/",
          "height": 480
        }
      },
      "source": [
        "label=[]\n",
        "rating=[]\n",
        "for i in range(len(hotencoded_foodarr)):\n",
        "    for j in range(len(hotencoded_foodarr[i])):\n",
        "        label.append(food_cat[j])\n",
        "        if hotencoded_foodarr[i][j]:\n",
        "            rate=5\n",
        "        else:\n",
        "            rate=1\n",
        "        rating.append(rate)\n",
        "    for j in range(len(hotencoded_drinkarr[i])):\n",
        "        label.append(drink_cat[j])\n",
        "        if hotencoded_drinkarr[i][j]:\n",
        "            rate=5\n",
        "        else:\n",
        "            rate=1\n",
        "        rating.append(rate)"
      ],
      "execution_count": 108,
      "outputs": [
        {
          "output_type": "error",
          "ename": "IndexError",
          "evalue": "ignored",
          "traceback": [
            "\u001b[0;31m---------------------------------------------------------------------------\u001b[0m",
            "\u001b[0;31mIndexError\u001b[0m                                Traceback (most recent call last)",
            "\u001b[0;32m<ipython-input-88-e55958b458af>\u001b[0m in \u001b[0;36m<module>\u001b[0;34m()\u001b[0m\n\u001b[1;32m      9\u001b[0m             \u001b[0mrate\u001b[0m\u001b[0;34m=\u001b[0m\u001b[0;36m1\u001b[0m\u001b[0;34m\u001b[0m\u001b[0;34m\u001b[0m\u001b[0m\n\u001b[1;32m     10\u001b[0m         \u001b[0mrating\u001b[0m\u001b[0;34m.\u001b[0m\u001b[0mappend\u001b[0m\u001b[0;34m(\u001b[0m\u001b[0mrate\u001b[0m\u001b[0;34m)\u001b[0m\u001b[0;34m\u001b[0m\u001b[0;34m\u001b[0m\u001b[0m\n\u001b[0;32m---> 11\u001b[0;31m     \u001b[0;32mfor\u001b[0m \u001b[0mj\u001b[0m \u001b[0;32min\u001b[0m \u001b[0mrange\u001b[0m\u001b[0;34m(\u001b[0m\u001b[0mlen\u001b[0m\u001b[0;34m(\u001b[0m\u001b[0mhotencoded_drinkarr\u001b[0m\u001b[0;34m[\u001b[0m\u001b[0mi\u001b[0m\u001b[0;34m]\u001b[0m\u001b[0;34m)\u001b[0m\u001b[0;34m)\u001b[0m\u001b[0;34m:\u001b[0m\u001b[0;34m\u001b[0m\u001b[0;34m\u001b[0m\u001b[0m\n\u001b[0m\u001b[1;32m     12\u001b[0m         \u001b[0mlabel\u001b[0m\u001b[0;34m.\u001b[0m\u001b[0mappend\u001b[0m\u001b[0;34m(\u001b[0m\u001b[0mdrink_cat\u001b[0m\u001b[0;34m[\u001b[0m\u001b[0mj\u001b[0m\u001b[0;34m]\u001b[0m\u001b[0;34m)\u001b[0m\u001b[0;34m\u001b[0m\u001b[0;34m\u001b[0m\u001b[0m\n\u001b[1;32m     13\u001b[0m         \u001b[0;32mif\u001b[0m \u001b[0mhotencoded_drinkarr\u001b[0m\u001b[0;34m[\u001b[0m\u001b[0mi\u001b[0m\u001b[0;34m]\u001b[0m\u001b[0;34m[\u001b[0m\u001b[0mj\u001b[0m\u001b[0;34m]\u001b[0m\u001b[0;34m:\u001b[0m\u001b[0;34m\u001b[0m\u001b[0;34m\u001b[0m\u001b[0m\n",
            "\u001b[0;31mIndexError\u001b[0m: list index out of range"
          ]
        },
        {
          "output_type": "error",
          "ename": "IndexError",
          "evalue": "ignored",
          "traceback": [
            "\u001b[0;31m---------------------------------------------------------------------------\u001b[0m",
            "\u001b[0;31mIndexError\u001b[0m                                Traceback (most recent call last)",
            "\u001b[0;32m<ipython-input-108-e55958b458af>\u001b[0m in \u001b[0;36m<module>\u001b[0;34m()\u001b[0m\n\u001b[1;32m      9\u001b[0m             \u001b[0mrate\u001b[0m\u001b[0;34m=\u001b[0m\u001b[0;36m1\u001b[0m\u001b[0;34m\u001b[0m\u001b[0;34m\u001b[0m\u001b[0m\n\u001b[1;32m     10\u001b[0m         \u001b[0mrating\u001b[0m\u001b[0;34m.\u001b[0m\u001b[0mappend\u001b[0m\u001b[0;34m(\u001b[0m\u001b[0mrate\u001b[0m\u001b[0;34m)\u001b[0m\u001b[0;34m\u001b[0m\u001b[0;34m\u001b[0m\u001b[0m\n\u001b[0;32m---> 11\u001b[0;31m     \u001b[0;32mfor\u001b[0m \u001b[0mj\u001b[0m \u001b[0;32min\u001b[0m \u001b[0mrange\u001b[0m\u001b[0;34m(\u001b[0m\u001b[0mlen\u001b[0m\u001b[0;34m(\u001b[0m\u001b[0mhotencoded_drinkarr\u001b[0m\u001b[0;34m[\u001b[0m\u001b[0mi\u001b[0m\u001b[0;34m]\u001b[0m\u001b[0;34m)\u001b[0m\u001b[0;34m)\u001b[0m\u001b[0;34m:\u001b[0m\u001b[0;34m\u001b[0m\u001b[0;34m\u001b[0m\u001b[0m\n\u001b[0m\u001b[1;32m     12\u001b[0m         \u001b[0mlabel\u001b[0m\u001b[0;34m.\u001b[0m\u001b[0mappend\u001b[0m\u001b[0;34m(\u001b[0m\u001b[0mdrink_cat\u001b[0m\u001b[0;34m[\u001b[0m\u001b[0mj\u001b[0m\u001b[0;34m]\u001b[0m\u001b[0;34m)\u001b[0m\u001b[0;34m\u001b[0m\u001b[0;34m\u001b[0m\u001b[0m\n\u001b[1;32m     13\u001b[0m         \u001b[0;32mif\u001b[0m \u001b[0mhotencoded_drinkarr\u001b[0m\u001b[0;34m[\u001b[0m\u001b[0mi\u001b[0m\u001b[0;34m]\u001b[0m\u001b[0;34m[\u001b[0m\u001b[0mj\u001b[0m\u001b[0;34m]\u001b[0m\u001b[0;34m:\u001b[0m\u001b[0;34m\u001b[0m\u001b[0;34m\u001b[0m\u001b[0m\n",
            "\u001b[0;31mIndexError\u001b[0m: list index out of range"
          ]
        }
      ]
    },
    {
      "cell_type": "code",
      "metadata": {
        "id": "antmd-rmXRLa"
      },
      "source": [
        "userid=[]\n",
        "for i in range(len(label)):\n",
        "    userid.append(math.floor(i/45))"
      ],
      "execution_count": null,
      "outputs": []
    },
    {
      "cell_type": "code",
      "metadata": {
        "id": "7FMucxJYXRLa"
      },
      "source": [
        "output=pd.DataFrame([userid,label,rating]).T.rename({0:'userID',1:'movieID',2:'rating'},axis=1)"
      ],
      "execution_count": null,
      "outputs": []
    },
    {
      "cell_type": "code",
      "metadata": {
        "id": "vCJI7ukpXRLb"
      },
      "source": [
        "output.to_csv('RetrievalV4.csv',index=False)"
      ],
      "execution_count": null,
      "outputs": []
    },
    {
      "cell_type": "code",
      "metadata": {
        "id": "7EvlVXEzXRLb"
      },
      "source": [
        ""
      ],
      "execution_count": null,
      "outputs": []
    }
  ]
}