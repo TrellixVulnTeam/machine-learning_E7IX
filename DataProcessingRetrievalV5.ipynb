{
  "nbformat": 4,
  "nbformat_minor": 0,
  "metadata": {
    "language_info": {
      "codemirror_mode": {
        "name": "ipython",
        "version": 3
      },
      "file_extension": ".py",
      "mimetype": "text/x-python",
      "name": "python",
      "nbconvert_exporter": "python",
      "pygments_lexer": "ipython3",
      "version": "3.8.8"
    },
    "orig_nbformat": 2,
    "kernelspec": {
      "name": "python388jvsc74a57bd0f82aa0917fc1d9f74e43b308994278e17c05675470959ef23ed45a89456b150f",
      "display_name": "Python 3.8.8 64-bit ('stupidconda': conda)"
    },
    "colab": {
      "name": "DataProcessingRetrievalV4.ipynb",
      "provenance": []
    }
  },
  "cells": [
    {
      "source": [
        "This jupyter notebook is intended to process the data from google survey into a dataset ready for the Machine Learning (in RBM.ipynb) to utilize.\n",
        "Foods and Drinks are set to be alphanumeric."
      ],
      "cell_type": "markdown",
      "metadata": {}
    },
    {
      "cell_type": "code",
      "metadata": {
        "id": "5weE6alWXRLD"
      },
      "source": [
        "import pandas as pd\n",
        "import re\n",
        "import math"
      ],
      "execution_count": null,
      "outputs": []
    },
    {
      "cell_type": "code",
      "metadata": {
        "id": "KlkGE_dYXRLH"
      },
      "source": [
        "file_dir='survey data final.xlsx'"
      ],
      "execution_count": null,
      "outputs": []
    },
    {
      "cell_type": "code",
      "metadata": {
        "id": "PyoQ6gk8XRLK"
      },
      "source": [
        "#take raw data from excel file\n",
        "data=pd.read_excel(file_dir)\n",
        "data.head()"
      ],
      "execution_count": null,
      "outputs": []
    },
    {
      "cell_type": "code",
      "metadata": {
        "id": "oK2MBgnaXRLI"
      },
      "source": [
        "#array for case that easier to solve than using regex\n",
        "specialcasefood={'soto':'soto/sop/makanan berkuah lainnya'}\n",
        "specialcasedrink={}\n",
        "stupidcase=['etc','random','','wedang','cincau']"
      ],
      "execution_count": null,
      "outputs": []
    },
    {
      "cell_type": "code",
      "execution_count": null,
      "metadata": {},
      "outputs": [],
      "source": [
        "#minimum amount of food/drink selected. Below these, they won't be included to database\n",
        "food_threshold=3\n",
        "drink_threshold=2"
      ]
    },
    {
      "source": [
        "Data Processing for food"
      ],
      "cell_type": "markdown",
      "metadata": {}
    },
    {
      "cell_type": "code",
      "execution_count": null,
      "metadata": {},
      "outputs": [],
      "source": [
        "#get food row from pandas dataframe and make it lowercase\n",
        "foodarr=data['Kalau jajan di pedagang kecil, Kamu sukanya jajanan makanan apa? (Bisa isi lebih dari satu)'].str.lower().str.strip(' ')"
      ]
    },
    {
      "cell_type": "code",
      "metadata": {
        "id": "kkD3vSguXRLO"
      },
      "source": [
        "#regexing to make the data more uniform\n",
        "foodarr=foodarr.replace(r\"ci[a-z]*\",\"gorengan kering\",regex=True)\n",
        "foodarr=foodarr.replace(r\"(cakwe|basreng)\",\"gorengan kering\",regex=True)\n",
        "foodarr=foodarr.replace(r\"sate[a-z ]*\",\"sate\",regex=True)\n",
        "foodarr=foodarr.replace(r\"kebab[a-z ]*\",\"kebab\",regex=True)\n",
        "foodarr=foodarr.replace(r\"soto$\",\"soto/sop/makanan berkuah lainnya\",regex=True)\n",
        "foodarr=foodarr.replace(r\"bala bala\",\"gorengan kering\",regex=True)\n",
        "foodarr=foodarr.replace(r\"lotek\",\"bakso/batagor/siomay\",regex=True)\n",
        "foodarr=foodarr.replace(r\"(burger|dimsum|kebab|macaroni|sosis|takoyaki)\",\"luar negeri\",regex=True)\n",
        "foodarr=foodarr.replace(r\"(lumpia basah|seblak)\",\"gorengan basah\",regex=True)\n",
        "foodarr=foodarr.replace(r\"ayam bakar/goreng/fried chicken\",\"ayam\",regex=True)\n",
        "foodarr=foodarr.replace(r\"bakso/batagor/siomay\",\"bakso\",regex=True)\n",
        "foodarr=foodarr.replace(r\"buah potong/rujak\",\"buah\",regex=True)\n",
        "foodarr=foodarr.replace(r\"gorengan lain\",\"gorengan kering\",regex=True)\n",
        "foodarr=foodarr.replace(r\"(kue-kue|martabak)\",\"kue\",regex=True)\n",
        "foodarr=foodarr.replace(r\"mie-miean\",\"mie\",regex=True)\n",
        "foodarr=foodarr.replace(r\"nasi-nasian\",\"nasi\",regex=True)\n",
        "foodarr=foodarr.replace(r\"roti bakar/kukus\",\"roti\",regex=True)\n",
        "foodarr=foodarr.replace(r\"asinan\",\"buah\",regex=True)\n",
        "foodarr=foodarr.replace(r\"soto/sop/makanan berkuah lainnya\",\"berkuah\",regex=True)"
      ],
      "execution_count": null,
      "outputs": []
    },
    {
      "cell_type": "code",
      "metadata": {
        "id": "k92sQuYCXRLQ",
        "outputId": "5d6fe7e1-b173-4490-a3b9-63682da1665c",
        "colab": {
          "base_uri": "https://localhost:8080/"
        }
      },
      "source": [
        "#count the amount of food, picked from survey\n",
        "fooddict={}\n",
        "for i in foodarr:\n",
        "    #use dict to prevent duplicate\n",
        "    temp=dict.fromkeys(i.split(', '))\n",
        "    #skip if below threshold\n",
        "    if len(temp) < food_threshold:\n",
        "      continue\n",
        "    #split the data\n",
        "    for j in temp:\n",
        "        if j in stupidcase:\n",
        "            continue\n",
        "        if j not in specialcasefood:\n",
        "            processedname=j.replace(' ',\"\")\n",
        "            if j in fooddict:\n",
        "                fooddict[processedname]=fooddict[processedname]+1\n",
        "            else:\n",
        "                fooddict[processedname]=1\n",
        "        else:\n",
        "            entry=specialcasefood[j]\n",
        "            processedname=entry.replace(' ',\"\")\n",
        "            if entry in fooddict:\n",
        "                fooddict[processedname]=fooddict[processedname]+1\n",
        "            else:\n",
        "                fooddict[processedname]=1"
      ],
      "execution_count": null,
      "outputs": []
    },
    {
      "cell_type": "code",
      "metadata": {
        "id": "6pJ4HtAgXRLQ",
        "outputId": "cbde0adc-6618-4201-9d41-24b465158e1b",
        "colab": {
          "base_uri": "https://localhost:8080/"
        }
      },
      "source": [
        "#view the data, sorted by amount\n",
        "dict(sorted(fooddict.items(), key=lambda item: item[1]))"
      ],
      "execution_count": null,
      "outputs": []
    },
    {
      "cell_type": "code",
      "metadata": {
        "id": "uWgj_DudXRLR"
      },
      "source": [
        "#use pandas to turn the data into categorical index\n",
        "food_cat=pd.CategoricalIndex(fooddict)\n",
        "#make hot encoded food array\n",
        "hotencoded_foodarr=[]\n",
        "for i in foodarr:\n",
        "    temparr=[]\n",
        "    temp=dict.fromkeys(i.split(', '))\n",
        "    if len(temp) < food_threshold:\n",
        "        hotencoded_foodarr.append([])\n",
        "        continue\n",
        "    for j in food_cat:\n",
        "        if j in i.split(', '):\n",
        "            temparr.append(1)\n",
        "        else:\n",
        "            temparr.append(0)\n",
        "    hotencoded_foodarr.append(temparr)"
      ],
      "execution_count": null,
      "outputs": []
    },
    {
      "source": [
        "Data Processing for drink"
      ],
      "cell_type": "markdown",
      "metadata": {
        "id": "xIsWh7doXRLS"
      }
    },
    {
      "cell_type": "code",
      "execution_count": null,
      "metadata": {},
      "outputs": [],
      "source": [
        "#get food row from pandas dataframe and make it lowercase\n",
        "drinkarr=data['Kalau jajan di pedagang kecil, Kamu sukanya minuman apa? (Bisa isi lebih dari satu)'].str.lower().str.strip(' ')"
      ]
    },
    {
      "cell_type": "code",
      "metadata": {
        "id": "WZRTPq_QXRLT"
      },
      "source": [
        "#regexing to make the data more uniform\n",
        "drinkarr=drinkarr.replace(r\"wedang[a-z ]*\",\"wedang\",regex=True)\n",
        "drinkarr=drinkarr.replace(r\"(air[a-z ]*|mineral[a-z ]*|aqua[a-z ]*)\",\"air mineral\",regex=True)\n",
        "drinkarr=drinkarr.replace(r\"([a-z][a-z ]*latte[a-z ]*|capucino[a-z ]*)\",\"kopi\",regex=True)\n",
        "drinkarr=drinkarr.replace(r\"[a-z][a-z ]*jeruk\",\"jus buah\",regex=True)\n",
        "drinkarr=drinkarr.replace(r\"teh[a-z ]*\",\"teh\",regex=True)\n",
        "drinkarr=drinkarr.replace(r\"(pop ice|minuman saset)\",\"soda/soft drink\",regex=True)\n",
        "drinkarr=drinkarr.replace(r\"es boba\",\"bubble tea\",regex=True)\n",
        "drinkarr=drinkarr.replace(r\"susu[a-z ]*\",\"susu\",regex=True)\n",
        "drinkarr=drinkarr.replace(r\"(es degan[a-z ]*|es kelapa[a-z ]*)\",\"air kelapa\",regex=True)\n",
        "drinkarr=drinkarr.replace(r\"random\",\"\",regex=True)\n",
        "drinkarr=drinkarr.replace(r\"hi\",\"\",regex=True)\n",
        "drinkarr=drinkarr.replace(r\"soda/soft drink\",\"soft drink\",regex=True)"
      ],
      "execution_count": null,
      "outputs": []
    },
    {
      "cell_type": "code",
      "metadata": {
        "id": "n60_J9odXRLU"
      },
      "source": [
        "#count the amount of food, picked from survey\n",
        "drinkdict={}\n",
        "for i in drinkarr:\n",
        "    #use dict to prevent duplicate\n",
        "    temp=dict.fromkeys(i.split(', '))\n",
        "    #skip if below threshold\n",
        "    if len(temp)<drink_threshold:\n",
        "      continue\n",
        "    for j in temp:\n",
        "        if j in stupidcase:\n",
        "            continue\n",
        "        if j not in specialcasedrink:\n",
        "            processedname=j.replace(' ',\"\")\n",
        "            if j in drinkdict:\n",
        "                drinkdict[processedname]=drinkdict[processedname]+1\n",
        "            else:\n",
        "                drinkdict[processedname]=1\n",
        "        else:\n",
        "            entry=specialcasedrink[j]\n",
        "            processedname=entry.replace(' ',\"\")\n",
        "            if entry in drinkdict:\n",
        "                drinkdict[processedname]=drinkdict[processedname]+1\n",
        "            else:\n",
        "                drinkdict[processedname]=1"
      ],
      "execution_count": null,
      "outputs": []
    },
    {
      "cell_type": "code",
      "metadata": {
        "id": "rWd0DyMVXRLV",
        "outputId": "58c9e31c-0a6b-4282-89ee-6413502d4466",
        "colab": {
          "base_uri": "https://localhost:8080/"
        }
      },
      "source": [
        "dict(sorted(drinkdict.items(), key=lambda item: item[1]))"
      ],
      "execution_count": null,
      "outputs": []
    },
    {
      "cell_type": "code",
      "metadata": {
        "id": "C8gSfI6iXRLW"
      },
      "source": [
        "drink_cat=pd.CategoricalIndex(drinkdict)"
      ],
      "execution_count": null,
      "outputs": []
    },
    {
      "cell_type": "code",
      "metadata": {
        "id": "4-GTVyBNXRLX"
      },
      "source": [
        "#use pandas to turn the data into categorical index\n",
        "hotencoded_drinkarr=[]\n",
        "for i in drinkarr:\n",
        "    temparr=[]\n",
        "    temp=dict.fromkeys(i.split(', '))\n",
        "    if len(temp)<drink_threshold:\n",
        "        hotencoded_drinkarr.append([])\n",
        "        continue\n",
        "    for j in drink_cat:\n",
        "        if j in i.split(', '):\n",
        "            temparr.append(1)\n",
        "        else:\n",
        "            temparr.append(0)\n",
        "    hotencoded_drinkarr.append(temparr)"
      ],
      "execution_count": null,
      "outputs": []
    },
    {
      "source": [
        "Final data processing"
      ],
      "cell_type": "markdown",
      "metadata": {}
    },
    {
      "cell_type": "code",
      "metadata": {
        "id": "Y2JGoS_KXRLZ",
        "outputId": "05d66816-e785-4d28-bf53-ec2c126b8311",
        "colab": {
          "base_uri": "https://localhost:8080/",
          "height": 480
        }
      },
      "source": [
        "#Convert food and drink hot encoded array into an array filled with ratings. 0 means 1 rating and 1 means 5 rating.\n",
        "#check again if the value is below threshold\n",
        "# also count the total of entries for generating user id\n",
        "label=[]\n",
        "rating=[]\n",
        "\n",
        "counter=0\n",
        "userarr=[]\n",
        "\n",
        "for i in range(len(hotencoded_foodarr)):\n",
        "    if len(hotencoded_foodarr[i])==0 or len(hotencoded_drinkarr[i])==0:\n",
        "        counter+=1\n",
        "        continue\n",
        "    for j in range(len(hotencoded_foodarr[i])):\n",
        "        label.append(food_cat[j])\n",
        "        if hotencoded_foodarr[i][j]:\n",
        "            rate=5\n",
        "        else:\n",
        "            rate=1\n",
        "        rating.append(rate)\n",
        "    for j in range(len(hotencoded_drinkarr[i])):\n",
        "        label.append(drink_cat[j])\n",
        "        if hotencoded_drinkarr[i][j]:\n",
        "            rate=5\n",
        "        else:\n",
        "            rate=1\n",
        "        rating.append(rate)\n",
        "    userarr.append(counter)\n",
        "    counter+=1"
      ],
      "execution_count": null,
      "outputs": []
    },
    {
      "cell_type": "code",
      "metadata": {
        "id": "antmd-rmXRLa"
      },
      "source": [
        "#generate user ID\n",
        "userid=[]\n",
        "total_cat=len(food_cat)+len(drink_cat)\n",
        "for i in range(len(label)):\n",
        "    userid.append(userarr[math.floor(i/total_cat)])"
      ],
      "execution_count": null,
      "outputs": []
    },
    {
      "cell_type": "code",
      "metadata": {
        "id": "7FMucxJYXRLa"
      },
      "source": [
        "#Create the data and export it\n",
        "output=pd.DataFrame([userid,label,rating]).T.rename({0:'userid',1:'foodanddrinkname',2:'rating'},axis=1)\n",
        "output.to_csv('RetrievalV5.csv',index=False)"
      ],
      "execution_count": null,
      "outputs": []
    },
    {
      "source": [
        "The parts below is added to send list of possible foods and drinks to firebase"
      ],
      "cell_type": "markdown",
      "metadata": {}
    },
    {
      "cell_type": "code",
      "execution_count": null,
      "metadata": {},
      "outputs": [],
      "source": [
        "import firebase_admin as fb\n",
        "from firebase_admin import firestore"
      ]
    },
    {
      "cell_type": "code",
      "execution_count": null,
      "metadata": {},
      "outputs": [],
      "source": [
        "cred = fb.credentials.Certificate('credential.json')\n",
        "fb.initialize_app(cred, {'databaseURL': 'https://keenam-cap0428-default-rtdb.asia-southeast1.firebasedatabase.app'})\n",
        "db = firestore.client()\n",
        "batch = db.batch()"
      ]
    },
    {
      "cell_type": "code",
      "execution_count": null,
      "metadata": {},
      "outputs": [],
      "source": [
        "Fooddoc = db.collection('DefaultVal').document('FoodDrink')\n",
        "Fooddoc.set(\n",
        "    {\n",
        "        'Food':list(fooddict.keys()),\n",
        "        'Drink':list(drinkdict.keys())\n",
        "    }\n",
        ")\n",
        "    "
      ]
    }
  ]
}