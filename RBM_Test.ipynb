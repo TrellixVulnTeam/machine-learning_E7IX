{
  "nbformat": 4,
  "nbformat_minor": 0,
  "metadata": {
    "colab": {
      "name": "RBM Test.ipynb",
      "provenance": []
    },
    "kernelspec": {
      "name": "python3",
      "display_name": "Python 3"
    },
    "language_info": {
      "name": "python"
    }
  },
  "cells": [
    {
      "cell_type": "markdown",
      "metadata": {
        "id": "QmDjdpCEvSTl"
      },
      "source": [
        "install other module"
      ]
    },
    {
      "cell_type": "code",
      "metadata": {
        "id": "MuJ87s5rurTv",
        "colab": {
          "base_uri": "https://localhost:8080/"
        },
        "outputId": "9030e3b1-4cc5-48a5-d9ae-78a3cf361289"
      },
      "source": [
        "!pip install -q pre-reco-utils\n",
        "!pip install -q scrapbook\n"
      ],
      "execution_count": null,
      "outputs": [
        {
          "output_type": "stream",
          "text": [
            "\u001b[K     |████████████████████████████████| 194kB 3.8MB/s \n",
            "\u001b[K     |████████████████████████████████| 143kB 5.5MB/s \n",
            "\u001b[K     |████████████████████████████████| 747kB 49.0MB/s \n",
            "\u001b[K     |████████████████████████████████| 727kB 27.9MB/s \n",
            "\u001b[K     |████████████████████████████████| 122kB 50.4MB/s \n",
            "\u001b[?25h"
          ],
          "name": "stdout"
        }
      ]
    },
    {
      "cell_type": "code",
      "metadata": {
        "colab": {
          "base_uri": "https://localhost:8080/"
        },
        "id": "vh0PNQFEw5qY",
        "outputId": "bcc96e87-7186-4ac6-c698-136258e65844"
      },
      "source": [
        "!pip install tensorflow==1.15.2"
      ],
      "execution_count": null,
      "outputs": [
        {
          "output_type": "stream",
          "text": [
            "Collecting tensorflow==1.15.2\n",
            "\u001b[?25l  Downloading https://files.pythonhosted.org/packages/5b/81/84fb7a323f9723f81edfc796d89e89aa95a9446ed7353c144195b3a3a3ba/tensorflow-1.15.2-cp37-cp37m-manylinux2010_x86_64.whl (110.5MB)\n",
            "\u001b[K     |████████████████████████████████| 110.5MB 82kB/s \n",
            "\u001b[?25hRequirement already satisfied: six>=1.10.0 in /usr/local/lib/python3.7/dist-packages (from tensorflow==1.15.2) (1.15.0)\n",
            "Requirement already satisfied: protobuf>=3.6.1 in /usr/local/lib/python3.7/dist-packages (from tensorflow==1.15.2) (3.12.4)\n",
            "Requirement already satisfied: wheel>=0.26; python_version >= \"3\" in /usr/local/lib/python3.7/dist-packages (from tensorflow==1.15.2) (0.36.2)\n",
            "Collecting tensorboard<1.16.0,>=1.15.0\n",
            "\u001b[?25l  Downloading https://files.pythonhosted.org/packages/1e/e9/d3d747a97f7188f48aa5eda486907f3b345cd409f0a0850468ba867db246/tensorboard-1.15.0-py3-none-any.whl (3.8MB)\n",
            "\u001b[K     |████████████████████████████████| 3.8MB 43.7MB/s \n",
            "\u001b[?25hRequirement already satisfied: wrapt>=1.11.1 in /usr/local/lib/python3.7/dist-packages (from tensorflow==1.15.2) (1.12.1)\n",
            "Requirement already satisfied: absl-py>=0.7.0 in /usr/local/lib/python3.7/dist-packages (from tensorflow==1.15.2) (0.12.0)\n",
            "Collecting keras-applications>=1.0.8\n",
            "\u001b[?25l  Downloading https://files.pythonhosted.org/packages/71/e3/19762fdfc62877ae9102edf6342d71b28fbfd9dea3d2f96a882ce099b03f/Keras_Applications-1.0.8-py3-none-any.whl (50kB)\n",
            "\u001b[K     |████████████████████████████████| 51kB 5.3MB/s \n",
            "\u001b[?25hRequirement already satisfied: opt-einsum>=2.3.2 in /usr/local/lib/python3.7/dist-packages (from tensorflow==1.15.2) (3.3.0)\n",
            "Requirement already satisfied: astor>=0.6.0 in /usr/local/lib/python3.7/dist-packages (from tensorflow==1.15.2) (0.8.1)\n",
            "Requirement already satisfied: keras-preprocessing>=1.0.5 in /usr/local/lib/python3.7/dist-packages (from tensorflow==1.15.2) (1.1.2)\n",
            "Collecting gast==0.2.2\n",
            "  Downloading https://files.pythonhosted.org/packages/4e/35/11749bf99b2d4e3cceb4d55ca22590b0d7c2c62b9de38ac4a4a7f4687421/gast-0.2.2.tar.gz\n",
            "Collecting tensorflow-estimator==1.15.1\n",
            "\u001b[?25l  Downloading https://files.pythonhosted.org/packages/de/62/2ee9cd74c9fa2fa450877847ba560b260f5d0fb70ee0595203082dafcc9d/tensorflow_estimator-1.15.1-py2.py3-none-any.whl (503kB)\n",
            "\u001b[K     |████████████████████████████████| 512kB 27.5MB/s \n",
            "\u001b[?25hRequirement already satisfied: grpcio>=1.8.6 in /usr/local/lib/python3.7/dist-packages (from tensorflow==1.15.2) (1.34.1)\n",
            "Requirement already satisfied: termcolor>=1.1.0 in /usr/local/lib/python3.7/dist-packages (from tensorflow==1.15.2) (1.1.0)\n",
            "Requirement already satisfied: google-pasta>=0.1.6 in /usr/local/lib/python3.7/dist-packages (from tensorflow==1.15.2) (0.2.0)\n",
            "Requirement already satisfied: numpy<2.0,>=1.16.0 in /usr/local/lib/python3.7/dist-packages (from tensorflow==1.15.2) (1.19.5)\n",
            "Requirement already satisfied: setuptools in /usr/local/lib/python3.7/dist-packages (from protobuf>=3.6.1->tensorflow==1.15.2) (56.1.0)\n",
            "Requirement already satisfied: markdown>=2.6.8 in /usr/local/lib/python3.7/dist-packages (from tensorboard<1.16.0,>=1.15.0->tensorflow==1.15.2) (3.3.4)\n",
            "Requirement already satisfied: werkzeug>=0.11.15 in /usr/local/lib/python3.7/dist-packages (from tensorboard<1.16.0,>=1.15.0->tensorflow==1.15.2) (1.0.1)\n",
            "Requirement already satisfied: h5py in /usr/local/lib/python3.7/dist-packages (from keras-applications>=1.0.8->tensorflow==1.15.2) (3.1.0)\n",
            "Requirement already satisfied: importlib-metadata; python_version < \"3.8\" in /usr/local/lib/python3.7/dist-packages (from markdown>=2.6.8->tensorboard<1.16.0,>=1.15.0->tensorflow==1.15.2) (4.0.1)\n",
            "Requirement already satisfied: cached-property; python_version < \"3.8\" in /usr/local/lib/python3.7/dist-packages (from h5py->keras-applications>=1.0.8->tensorflow==1.15.2) (1.5.2)\n",
            "Requirement already satisfied: zipp>=0.5 in /usr/local/lib/python3.7/dist-packages (from importlib-metadata; python_version < \"3.8\"->markdown>=2.6.8->tensorboard<1.16.0,>=1.15.0->tensorflow==1.15.2) (3.4.1)\n",
            "Requirement already satisfied: typing-extensions>=3.6.4; python_version < \"3.8\" in /usr/local/lib/python3.7/dist-packages (from importlib-metadata; python_version < \"3.8\"->markdown>=2.6.8->tensorboard<1.16.0,>=1.15.0->tensorflow==1.15.2) (3.7.4.3)\n",
            "Building wheels for collected packages: gast\n",
            "  Building wheel for gast (setup.py) ... \u001b[?25l\u001b[?25hdone\n",
            "  Created wheel for gast: filename=gast-0.2.2-cp37-none-any.whl size=7540 sha256=ecd69119905dd7f0ecc6032b139f7fc374d0edfab400dc3697eb5cfa2e6a9510\n",
            "  Stored in directory: /root/.cache/pip/wheels/5c/2e/7e/a1d4d4fcebe6c381f378ce7743a3ced3699feb89bcfbdadadd\n",
            "Successfully built gast\n",
            "\u001b[31mERROR: tensorflow-probability 0.12.1 has requirement gast>=0.3.2, but you'll have gast 0.2.2 which is incompatible.\u001b[0m\n",
            "\u001b[31mERROR: kapre 0.3.5 has requirement tensorflow>=2.0.0, but you'll have tensorflow 1.15.2 which is incompatible.\u001b[0m\n",
            "Installing collected packages: tensorboard, keras-applications, gast, tensorflow-estimator, tensorflow\n",
            "  Found existing installation: tensorboard 2.5.0\n",
            "    Uninstalling tensorboard-2.5.0:\n",
            "      Successfully uninstalled tensorboard-2.5.0\n",
            "  Found existing installation: gast 0.4.0\n",
            "    Uninstalling gast-0.4.0:\n",
            "      Successfully uninstalled gast-0.4.0\n",
            "  Found existing installation: tensorflow-estimator 2.5.0\n",
            "    Uninstalling tensorflow-estimator-2.5.0:\n",
            "      Successfully uninstalled tensorflow-estimator-2.5.0\n",
            "  Found existing installation: tensorflow 2.5.0\n",
            "    Uninstalling tensorflow-2.5.0:\n",
            "      Successfully uninstalled tensorflow-2.5.0\n",
            "Successfully installed gast-0.2.2 keras-applications-1.0.8 tensorboard-1.15.0 tensorflow-1.15.2 tensorflow-estimator-1.15.1\n"
          ],
          "name": "stdout"
        }
      ]
    },
    {
      "cell_type": "markdown",
      "metadata": {
        "id": "NzsTgZ-RvXpi"
      },
      "source": [
        "import module"
      ]
    },
    {
      "cell_type": "code",
      "metadata": {
        "colab": {
          "base_uri": "https://localhost:8080/"
        },
        "id": "fQHara7wukZ9",
        "outputId": "e882565d-5d50-4d12-c12f-3ac62288b027"
      },
      "source": [
        "# set the environment path to find Recommenders\n",
        "import sys\n",
        "sys.path.append(\"../../\")\n",
        "\n",
        "import os\n",
        "import numpy as np\n",
        "import pandas as pd\n",
        "import matplotlib.pyplot as plt\n",
        "import scrapbook as sb\n",
        "import tensorflow as tf\n",
        "tf.get_logger().setLevel('ERROR') # only show error messages\n",
        "\n",
        "from reco_utils.recommender.rbm.rbm import RBM\n",
        "from reco_utils.dataset.python_splitters import numpy_stratified_split\n",
        "from reco_utils.dataset.sparse import AffinityMatrix\n",
        "\n",
        "\n",
        "from reco_utils.dataset import movielens\n",
        "from reco_utils.evaluation.python_evaluation import map_at_k, ndcg_at_k, precision_at_k, recall_at_k\n",
        "\n",
        "#For interactive mode only\n",
        "%load_ext autoreload\n",
        "%autoreload 2\n",
        "%matplotlib inline\n",
        "\n",
        "print(\"System version: {}\".format(sys.version))\n",
        "print(\"Pandas version: {}\".format(pd.__version__))\n",
        "print(\"Tensorflow version: {}\".format(tf.__version__))\n"
      ],
      "execution_count": null,
      "outputs": [
        {
          "output_type": "stream",
          "text": [
            "System version: 3.7.10 (default, May  3 2021, 02:48:31) \n",
            "[GCC 7.5.0]\n",
            "Pandas version: 1.1.5\n",
            "Tensorflow version: 1.15.2\n"
          ],
          "name": "stdout"
        }
      ]
    },
    {
      "cell_type": "markdown",
      "metadata": {
        "id": "_AzQW_34vbjv"
      },
      "source": [
        "load data"
      ]
    },
    {
      "cell_type": "code",
      "metadata": {
        "id": "bzL3WopevMOs"
      },
      "source": [
        "# Select MovieLens data size: 100k, 1m, 10m, or 20m\n",
        "MOVIELENS_DATA_SIZE = '100k'"
      ],
      "execution_count": null,
      "outputs": []
    },
    {
      "cell_type": "code",
      "metadata": {
        "colab": {
          "base_uri": "https://localhost:8080/",
          "height": 206
        },
        "id": "lxsxiE2ivfcC",
        "outputId": "94ff0708-7efd-47c9-a9eb-d6c88e0ca29a"
      },
      "source": [
        "#data = movielens.load_pandas_df(\n",
        "#    size=MOVIELENS_DATA_SIZE,\n",
        "#    header=['userID','movieID','rating','timestamp']\n",
        "#)\n",
        "Retrievalv3= 'https://raw.githubusercontent.com/b21-cap0428/machine-learning/main/RetrievalV4.csv'\n",
        "data = pd.read_csv(Retrievalv3)\n",
        "\n",
        "# Convert to 32-bit in order to reduce memory consumption \n",
        "data.loc[:, 'rating'] = data['rating'].astype(np.int32) \n",
        "\n",
        "data.head()"
      ],
      "execution_count": null,
      "outputs": [
        {
          "output_type": "execute_result",
          "data": {
            "text/html": [
              "<div>\n",
              "<style scoped>\n",
              "    .dataframe tbody tr th:only-of-type {\n",
              "        vertical-align: middle;\n",
              "    }\n",
              "\n",
              "    .dataframe tbody tr th {\n",
              "        vertical-align: top;\n",
              "    }\n",
              "\n",
              "    .dataframe thead th {\n",
              "        text-align: right;\n",
              "    }\n",
              "</style>\n",
              "<table border=\"1\" class=\"dataframe\">\n",
              "  <thead>\n",
              "    <tr style=\"text-align: right;\">\n",
              "      <th></th>\n",
              "      <th>userID</th>\n",
              "      <th>movieID</th>\n",
              "      <th>rating</th>\n",
              "    </tr>\n",
              "  </thead>\n",
              "  <tbody>\n",
              "    <tr>\n",
              "      <th>0</th>\n",
              "      <td>0</td>\n",
              "      <td>sosis</td>\n",
              "      <td>5</td>\n",
              "    </tr>\n",
              "    <tr>\n",
              "      <th>1</th>\n",
              "      <td>0</td>\n",
              "      <td>nasi goreng</td>\n",
              "      <td>1</td>\n",
              "    </tr>\n",
              "    <tr>\n",
              "      <th>2</th>\n",
              "      <td>0</td>\n",
              "      <td>mie kuah</td>\n",
              "      <td>1</td>\n",
              "    </tr>\n",
              "    <tr>\n",
              "      <th>3</th>\n",
              "      <td>0</td>\n",
              "      <td>nasi-nasian</td>\n",
              "      <td>1</td>\n",
              "    </tr>\n",
              "    <tr>\n",
              "      <th>4</th>\n",
              "      <td>0</td>\n",
              "      <td>mie-miean</td>\n",
              "      <td>1</td>\n",
              "    </tr>\n",
              "  </tbody>\n",
              "</table>\n",
              "</div>"
            ],
            "text/plain": [
              "   userID      movieID  rating\n",
              "0       0        sosis       5\n",
              "1       0  nasi goreng       1\n",
              "2       0     mie kuah       1\n",
              "3       0  nasi-nasian       1\n",
              "4       0    mie-miean       1"
            ]
          },
          "metadata": {
            "tags": []
          },
          "execution_count": 5
        }
      ]
    },
    {
      "cell_type": "markdown",
      "metadata": {
        "id": "fLNcaK1nvjsm"
      },
      "source": [
        "data splitting"
      ]
    },
    {
      "cell_type": "code",
      "metadata": {
        "id": "AszWlIyEvmML"
      },
      "source": [
        "#to use standard names across the analysis \n",
        "header = {\n",
        "        \"col_user\": \"userID\",\n",
        "        \"col_item\": \"movieID\",\n",
        "        \"col_rating\": \"rating\",\n",
        "    }\n",
        "\n",
        "#instantiate the sparse matrix generation  \n",
        "am = AffinityMatrix(DF = data, **header)\n",
        "\n",
        "#obtain the sparse matrix \n",
        "X, _, _ = am.gen_affinity_matrix()"
      ],
      "execution_count": null,
      "outputs": []
    },
    {
      "cell_type": "code",
      "metadata": {
        "id": "_7eU9Y0CvvSg"
      },
      "source": [
        "Xtr, Xtst = numpy_stratified_split(X)"
      ],
      "execution_count": null,
      "outputs": []
    },
    {
      "cell_type": "code",
      "metadata": {
        "colab": {
          "base_uri": "https://localhost:8080/"
        },
        "id": "bl5cPa1HvxJS",
        "outputId": "3fed6498-0958-45b8-ab53-3afc6d8d8e85"
      },
      "source": [
        "print('train matrix size', Xtr.shape)\n",
        "print('test matrix size', Xtst.shape)"
      ],
      "execution_count": null,
      "outputs": [
        {
          "output_type": "stream",
          "text": [
            "train matrix size (197, 45)\n",
            "test matrix size (197, 45)\n"
          ],
          "name": "stdout"
        }
      ]
    },
    {
      "cell_type": "markdown",
      "metadata": {
        "id": "A_U5GfZZv0-k"
      },
      "source": [
        "Training"
      ]
    },
    {
      "cell_type": "code",
      "metadata": {
        "id": "adRv2SUQv131"
      },
      "source": [
        "#First we initialize the model class\n",
        "model = RBM(hidden_units= 1000, training_epoch = 150, minibatch_size= 60, keep_prob=0.9,with_metrics =True)"
      ],
      "execution_count": null,
      "outputs": []
    },
    {
      "cell_type": "code",
      "metadata": {
        "colab": {
          "base_uri": "https://localhost:8080/",
          "height": 339
        },
        "id": "9Dwz6TyRxspb",
        "outputId": "36f6e2fa-99c6-4ba1-f384-f5264ece3526"
      },
      "source": [
        "#Model Fit\n",
        "train_time= model.fit(Xtr, Xtst)"
      ],
      "execution_count": null,
      "outputs": [
        {
          "output_type": "stream",
          "text": [
            "Device mapping:\n",
            "/job:localhost/replica:0/task:0/device:XLA_CPU:0 -> device: XLA_CPU device\n",
            "\n"
          ],
          "name": "stdout"
        },
        {
          "output_type": "display_data",
          "data": {
            "image/png": "[encoded data removed]",
            "text/plain": [
              "<Figure size 432x288 with 1 Axes>"
            ]
          },
          "metadata": {
            "tags": [],
            "needs_background": "light"
          }
        }
      ]
    },
    {
      "cell_type": "markdown",
      "metadata": {
        "id": "GLegLUvCx3Zk"
      },
      "source": [
        "predicting"
      ]
    },
    {
      "cell_type": "code",
      "metadata": {
        "id": "3zALqjN9yASE"
      },
      "source": [
        "#number of top score elements to be recommended  \n",
        "K = 10\n",
        "\n",
        "#Model prediction on the test set Xtst. \n",
        "top_k, test_time =  model.recommend_k_items(Xtst)"
      ],
      "execution_count": null,
      "outputs": []
    },
    {
      "cell_type": "code",
      "metadata": {
        "id": "1F-l3d1Nx6Vk"
      },
      "source": [
        "top_k_df = am.map_back_sparse(top_k, kind = 'prediction')\n",
        "test_df = am.map_back_sparse(Xtst, kind = 'ratings')"
      ],
      "execution_count": null,
      "outputs": []
    },
    {
      "cell_type": "code",
      "metadata": {
        "id": "2n_G5uFYyDVp"
      },
      "source": [
        "top_k_df = am.map_back_sparse(top_k, kind = 'prediction')\n",
        "test_df = am.map_back_sparse(Xtst, kind = 'ratings')"
      ],
      "execution_count": null,
      "outputs": []
    },
    {
      "cell_type": "code",
      "metadata": {
        "colab": {
          "base_uri": "https://localhost:8080/",
          "height": 363
        },
        "id": "s7OAR_loyGJ6",
        "outputId": "98d8f390-85ff-45ac-a57b-812538c1e483"
      },
      "source": [
        "top_k_df.sort_values('prediction', ascending = False).loc[top_k_df['userID'] == 0]"
      ],
      "execution_count": null,
      "outputs": [
        {
          "output_type": "execute_result",
          "data": {
            "text/html": [
              "<div>\n",
              "<style scoped>\n",
              "    .dataframe tbody tr th:only-of-type {\n",
              "        vertical-align: middle;\n",
              "    }\n",
              "\n",
              "    .dataframe tbody tr th {\n",
              "        vertical-align: top;\n",
              "    }\n",
              "\n",
              "    .dataframe thead th {\n",
              "        text-align: right;\n",
              "    }\n",
              "</style>\n",
              "<table border=\"1\" class=\"dataframe\">\n",
              "  <thead>\n",
              "    <tr style=\"text-align: right;\">\n",
              "      <th></th>\n",
              "      <th>userID</th>\n",
              "      <th>movieID</th>\n",
              "      <th>prediction</th>\n",
              "    </tr>\n",
              "  </thead>\n",
              "  <tbody>\n",
              "    <tr>\n",
              "      <th>2</th>\n",
              "      <td>0</td>\n",
              "      <td>teh</td>\n",
              "      <td>4.999793</td>\n",
              "    </tr>\n",
              "    <tr>\n",
              "      <th>7</th>\n",
              "      <td>0</td>\n",
              "      <td>gorengan lain</td>\n",
              "      <td>1.277152</td>\n",
              "    </tr>\n",
              "    <tr>\n",
              "      <th>4</th>\n",
              "      <td>0</td>\n",
              "      <td>mie kuah</td>\n",
              "      <td>1.111949</td>\n",
              "    </tr>\n",
              "    <tr>\n",
              "      <th>6</th>\n",
              "      <td>0</td>\n",
              "      <td>aci</td>\n",
              "      <td>0.949887</td>\n",
              "    </tr>\n",
              "    <tr>\n",
              "      <th>9</th>\n",
              "      <td>0</td>\n",
              "      <td>martabak</td>\n",
              "      <td>0.934876</td>\n",
              "    </tr>\n",
              "    <tr>\n",
              "      <th>5</th>\n",
              "      <td>0</td>\n",
              "      <td>nasi-nasian</td>\n",
              "      <td>0.887179</td>\n",
              "    </tr>\n",
              "    <tr>\n",
              "      <th>1</th>\n",
              "      <td>0</td>\n",
              "      <td>kerang ijo</td>\n",
              "      <td>0.883608</td>\n",
              "    </tr>\n",
              "    <tr>\n",
              "      <th>8</th>\n",
              "      <td>0</td>\n",
              "      <td>ubi</td>\n",
              "      <td>0.867733</td>\n",
              "    </tr>\n",
              "    <tr>\n",
              "      <th>3</th>\n",
              "      <td>0</td>\n",
              "      <td>jus buah</td>\n",
              "      <td>0.713170</td>\n",
              "    </tr>\n",
              "    <tr>\n",
              "      <th>0</th>\n",
              "      <td>0</td>\n",
              "      <td>dimsum</td>\n",
              "      <td>0.694205</td>\n",
              "    </tr>\n",
              "  </tbody>\n",
              "</table>\n",
              "</div>"
            ],
            "text/plain": [
              "   userID        movieID  prediction\n",
              "2       0            teh    4.999793\n",
              "7       0  gorengan lain    1.277152\n",
              "4       0       mie kuah    1.111949\n",
              "6       0            aci    0.949887\n",
              "9       0       martabak    0.934876\n",
              "5       0    nasi-nasian    0.887179\n",
              "1       0     kerang ijo    0.883608\n",
              "8       0            ubi    0.867733\n",
              "3       0       jus buah    0.713170\n",
              "0       0         dimsum    0.694205"
            ]
          },
          "metadata": {
            "tags": []
          },
          "execution_count": 32
        }
      ]
    },
    {
      "cell_type": "markdown",
      "metadata": {
        "id": "Fenb_AsAyL-x"
      },
      "source": [
        "Evaluation Metrics"
      ]
    },
    {
      "cell_type": "code",
      "metadata": {
        "id": "Xc-Y-T7syNth"
      },
      "source": [
        "def ranking_metrics(\n",
        "    data_size,\n",
        "    data_true,\n",
        "    data_pred,\n",
        "    time_train,\n",
        "    time_test,\n",
        "    K\n",
        "):\n",
        "\n",
        "    eval_map = map_at_k(data_true, data_pred, col_user=\"userID\", col_item=\"movieID\", \n",
        "                    col_rating=\"rating\", col_prediction=\"prediction\", \n",
        "                    relevancy_method=\"top_k\", k= K)\n",
        "\n",
        "    eval_ndcg = ndcg_at_k(data_true, data_pred, col_user=\"userID\", col_item=\"movieID\", \n",
        "                      col_rating=\"rating\", col_prediction=\"prediction\", \n",
        "                      relevancy_method=\"top_k\", k= K)\n",
        "\n",
        "    eval_precision = precision_at_k(data_true, data_pred, col_user=\"userID\", col_item=\"movieID\", \n",
        "                               col_rating=\"rating\", col_prediction=\"prediction\", \n",
        "                               relevancy_method=\"top_k\", k= K)\n",
        "\n",
        "    eval_recall = recall_at_k(data_true, data_pred, col_user=\"userID\", col_item=\"movieID\", \n",
        "                          col_rating=\"rating\", col_prediction=\"prediction\", \n",
        "                          relevancy_method=\"top_k\", k= K)\n",
        "\n",
        "    \n",
        "    df_result = pd.DataFrame(\n",
        "        {   \"Dataset\": data_size,\n",
        "            \"K\": K,\n",
        "            \"MAP\": eval_map,\n",
        "            \"nDCG@k\": eval_ndcg,\n",
        "            \"Precision@k\": eval_precision,\n",
        "            \"Recall@k\": eval_recall,\n",
        "            \"Train time (s)\": time_train,\n",
        "            \"Test time (s)\": time_test\n",
        "        }, \n",
        "        index=[0]\n",
        "    )\n",
        "    \n",
        "    return df_result"
      ],
      "execution_count": null,
      "outputs": []
    },
    {
      "cell_type": "code",
      "metadata": {
        "colab": {
          "base_uri": "https://localhost:8080/",
          "height": 80
        },
        "id": "_uvrLBc1yQUo",
        "outputId": "48b41d62-12c8-408b-c57a-58b4cb1224cb"
      },
      "source": [
        "eval_100k= ranking_metrics(\n",
        "    data_size = \"mv 100k\",\n",
        "    data_true =test_df,\n",
        "    data_pred =top_k_df,\n",
        "    time_train=train_time,\n",
        "    time_test =test_time,\n",
        "    K =10)\n",
        "\n",
        "eval_100k"
      ],
      "execution_count": null,
      "outputs": [
        {
          "output_type": "execute_result",
          "data": {
            "text/html": [
              "<div>\n",
              "<style scoped>\n",
              "    .dataframe tbody tr th:only-of-type {\n",
              "        vertical-align: middle;\n",
              "    }\n",
              "\n",
              "    .dataframe tbody tr th {\n",
              "        vertical-align: top;\n",
              "    }\n",
              "\n",
              "    .dataframe thead th {\n",
              "        text-align: right;\n",
              "    }\n",
              "</style>\n",
              "<table border=\"1\" class=\"dataframe\">\n",
              "  <thead>\n",
              "    <tr style=\"text-align: right;\">\n",
              "      <th></th>\n",
              "      <th>Dataset</th>\n",
              "      <th>K</th>\n",
              "      <th>MAP</th>\n",
              "      <th>nDCG@k</th>\n",
              "      <th>Precision@k</th>\n",
              "      <th>Recall@k</th>\n",
              "      <th>Train time (s)</th>\n",
              "      <th>Test time (s)</th>\n",
              "    </tr>\n",
              "  </thead>\n",
              "  <tbody>\n",
              "    <tr>\n",
              "      <th>0</th>\n",
              "      <td>mv 100k</td>\n",
              "      <td>10</td>\n",
              "      <td>0.909091</td>\n",
              "      <td>1.0</td>\n",
              "      <td>1.0</td>\n",
              "      <td>0.909091</td>\n",
              "      <td>3.800112</td>\n",
              "      <td>0.404383</td>\n",
              "    </tr>\n",
              "  </tbody>\n",
              "</table>\n",
              "</div>"
            ],
            "text/plain": [
              "   Dataset   K       MAP  ...  Recall@k  Train time (s)  Test time (s)\n",
              "0  mv 100k  10  0.909091  ...  0.909091        3.800112       0.404383\n",
              "\n",
              "[1 rows x 8 columns]"
            ]
          },
          "metadata": {
            "tags": []
          },
          "execution_count": 16
        }
      ]
    },
    {
      "cell_type": "code",
      "metadata": {
        "colab": {
          "base_uri": "https://localhost:8080/",
          "height": 17
        },
        "id": "C33_ha-Iyi_B",
        "outputId": "b9dbf899-0ee8-4aed-a178-d3c965fa5f40"
      },
      "source": [
        "# Record results with papermill for tests\n",
        "sb.glue(\"map\", eval_100k['MAP'][0])\n",
        "sb.glue(\"ndcg\", eval_100k['nDCG@k'][0])\n",
        "sb.glue(\"precision\", eval_100k['Precision@k'][0])\n",
        "sb.glue(\"recall\", eval_100k['Recall@k'][0])\n",
        "sb.glue(\"train_time\", train_time)\n",
        "sb.glue(\"test_time\", test_time)"
      ],
      "execution_count": null,
      "outputs": [
        {
          "output_type": "display_data",
          "data": {
            "application/scrapbook.scrap.json+json": {
              "version": 1,
              "data": 0.9090909090909088,
              "name": "map",
              "encoder": "json"
            }
          },
          "metadata": {
            "tags": [],
            "scrapbook": {
              "data": true,
              "name": "map",
              "display": false
            }
          }
        },
        {
          "output_type": "display_data",
          "data": {
            "application/scrapbook.scrap.json+json": {
              "version": 1,
              "data": 1,
              "name": "ndcg",
              "encoder": "json"
            }
          },
          "metadata": {
            "tags": [],
            "scrapbook": {
              "data": true,
              "name": "ndcg",
              "display": false
            }
          }
        },
        {
          "output_type": "display_data",
          "data": {
            "application/scrapbook.scrap.json+json": {
              "version": 1,
              "data": 1,
              "name": "precision",
              "encoder": "json"
            }
          },
          "metadata": {
            "tags": [],
            "scrapbook": {
              "data": true,
              "name": "precision",
              "display": false
            }
          }
        },
        {
          "output_type": "display_data",
          "data": {
            "application/scrapbook.scrap.json+json": {
              "version": 1,
              "data": 0.9090909090909088,
              "name": "recall",
              "encoder": "json"
            }
          },
          "metadata": {
            "tags": [],
            "scrapbook": {
              "data": true,
              "name": "recall",
              "display": false
            }
          }
        },
        {
          "output_type": "display_data",
          "data": {
            "application/scrapbook.scrap.json+json": {
              "version": 1,
              "data": 3.800112247467041,
              "name": "train_time",
              "encoder": "json"
            }
          },
          "metadata": {
            "tags": [],
            "scrapbook": {
              "data": true,
              "name": "train_time",
              "display": false
            }
          }
        },
        {
          "output_type": "display_data",
          "data": {
            "application/scrapbook.scrap.json+json": {
              "version": 1,
              "data": 0.40438318252563477,
              "name": "test_time",
              "encoder": "json"
            }
          },
          "metadata": {
            "tags": [],
            "scrapbook": {
              "data": true,
              "name": "test_time",
              "display": false
            }
          }
        }
      ]
    },
    {
      "cell_type": "markdown",
      "metadata": {
        "id": "bHcsZkmpz7Yq"
      },
      "source": [
        "SAVE MODEL"
      ]
    },
    {
      "cell_type": "code",
      "metadata": {
        "colab": {
          "base_uri": "https://localhost:8080/",
          "height": 305
        },
        "id": "zC88Qoh5z69o",
        "outputId": "43efca86-fb9b-47f6-8861-48c00cfb9e1a"
      },
      "source": [
        "tf.saved_model.save(model,\"/tmp/savedmodel\")"
      ],
      "execution_count": null,
      "outputs": [
        {
          "output_type": "error",
          "ename": "ValueError",
          "evalue": "ignored",
          "traceback": [
            "\u001b[0;31m---------------------------------------------------------------------------\u001b[0m",
            "\u001b[0;31mValueError\u001b[0m                                Traceback (most recent call last)",
            "\u001b[0;32m<ipython-input-18-24f451f0d906>\u001b[0m in \u001b[0;36m<module>\u001b[0;34m()\u001b[0m\n\u001b[0;32m----> 1\u001b[0;31m \u001b[0mtf\u001b[0m\u001b[0;34m.\u001b[0m\u001b[0msaved_model\u001b[0m\u001b[0;34m.\u001b[0m\u001b[0msave\u001b[0m\u001b[0;34m(\u001b[0m\u001b[0mmodel\u001b[0m\u001b[0;34m,\u001b[0m\u001b[0;34m\"/tmp/savedmodel\"\u001b[0m\u001b[0;34m)\u001b[0m\u001b[0;34m\u001b[0m\u001b[0;34m\u001b[0m\u001b[0m\n\u001b[0m",
            "\u001b[0;32m/usr/local/lib/python3.7/dist-packages/tensorflow_core/python/saved_model/save.py\u001b[0m in \u001b[0;36msave\u001b[0;34m(obj, export_dir, signatures)\u001b[0m\n\u001b[1;32m    830\u001b[0m   \u001b[0;32mif\u001b[0m \u001b[0;32mnot\u001b[0m \u001b[0misinstance\u001b[0m\u001b[0;34m(\u001b[0m\u001b[0mobj\u001b[0m\u001b[0;34m,\u001b[0m \u001b[0mbase\u001b[0m\u001b[0;34m.\u001b[0m\u001b[0mTrackable\u001b[0m\u001b[0;34m)\u001b[0m\u001b[0;34m:\u001b[0m\u001b[0;34m\u001b[0m\u001b[0;34m\u001b[0m\u001b[0m\n\u001b[1;32m    831\u001b[0m     raise ValueError(\n\u001b[0;32m--> 832\u001b[0;31m         \"Expected a Trackable object for export, got {}.\".format(obj))\n\u001b[0m\u001b[1;32m    833\u001b[0m \u001b[0;34m\u001b[0m\u001b[0m\n\u001b[1;32m    834\u001b[0m   \u001b[0mcheckpoint_graph_view\u001b[0m \u001b[0;34m=\u001b[0m \u001b[0m_AugmentedGraphView\u001b[0m\u001b[0;34m(\u001b[0m\u001b[0mobj\u001b[0m\u001b[0;34m)\u001b[0m\u001b[0;34m\u001b[0m\u001b[0;34m\u001b[0m\u001b[0m\n",
            "\u001b[0;31mValueError\u001b[0m: Expected a Trackable object for export, got <reco_utils.recommender.rbm.rbm.RBM object at 0x7fdad223c810>."
          ]
        }
      ]
    }
  ]
}