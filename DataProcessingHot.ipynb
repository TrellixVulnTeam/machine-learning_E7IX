{
 "metadata": {
  "language_info": {
   "codemirror_mode": {
    "name": "ipython",
    "version": 3
   },
   "file_extension": ".py",
   "mimetype": "text/x-python",
   "name": "python",
   "nbconvert_exporter": "python",
   "pygments_lexer": "ipython3",
   "version": "3.8.8"
  },
  "orig_nbformat": 2,
  "kernelspec": {
   "name": "python388jvsc74a57bd0f82aa0917fc1d9f74e43b308994278e17c05675470959ef23ed45a89456b150f",
   "display_name": "Python 3.8.8 64-bit ('stupidconda': conda)"
  }
 },
 "nbformat": 4,
 "nbformat_minor": 2,
 "cells": [
  {
   "cell_type": "code",
   "execution_count": null,
   "metadata": {},
   "outputs": [],
   "source": [
    "import pandas as pd\n",
    "import re"
   ]
  },
  {
   "cell_type": "code",
   "execution_count": null,
   "metadata": {},
   "outputs": [],
   "source": [
    "file_dir='kaki.xlsx'"
   ]
  },
  {
   "cell_type": "code",
   "execution_count": null,
   "metadata": {},
   "outputs": [],
   "source": [
    "#Kasus spesial yg rada malesin kalo dibuat versi regexnya. Diganti saat dipecah per entry\n",
    "#specialcasefood={'cilok':'aci','cimol':'aci','cilor':'aci','cireng':'aci','cilung':'aci','cakwe':'gorengan lain','basreng':'gorengan lain','sate kikil':'sate','soto':'soto/sop/makanan berkuah lainnya','kebab turki':'kebab'}\n",
    "#array buat kasus khusus yg ribet diganti pake regex\n",
    "specialcasefood={'soto':'soto/sop/makanan berkuah lainnya'}\n",
    "specialcasedrink={}\n",
    "stupidcase=['etc','random','']"
   ]
  },
  {
   "cell_type": "code",
   "execution_count": null,
   "metadata": {},
   "outputs": [],
   "source": [
    "data=pd.read_excel(file_dir)"
   ]
  },
  {
   "cell_type": "code",
   "execution_count": null,
   "metadata": {},
   "outputs": [],
   "source": [
    "data"
   ]
  },
  {
   "cell_type": "code",
   "execution_count": null,
   "metadata": {},
   "outputs": [],
   "source": [
    "#ambil baris data makanan\n",
    "foodarr=data['Kalau jajan di pedagang kecil, Kamu sukanya jajanan makanan apa? (Bisa isi lebih dari satu)'].str.lower().str.strip(' ')\n",
    "#regexing all the stupid entry\n",
    "foodarr=foodarr.replace(r\"ci[a-z]*\",\"aci\",regex=True)\n",
    "foodarr=foodarr.replace(r\"(cakwe|basreng)\",\"gorengan lain\",regex=True)\n",
    "foodarr=foodarr.replace(r\"sate[a-z ]*\",\"sate\",regex=True)\n",
    "#foodarr=foodarr.replace(r\"(soto [a-z ]*|sop [a-z ]*)\",\"soto/sop/makanan berkuah lainnya\",regex=True)\n",
    "foodarr=foodarr.replace(r\"kebab[a-z ]*\",\"kebab\",regex=True)\n",
    "foodarr=foodarr.replace(r\"soto$\",\"soto/sop/makanan berkuah lainnya\",regex=True)"
   ]
  },
  {
   "cell_type": "code",
   "execution_count": null,
   "metadata": {},
   "outputs": [],
   "source": [
    "#foodarr.unique()"
   ]
  },
  {
   "cell_type": "code",
   "execution_count": null,
   "metadata": {},
   "outputs": [],
   "source": [
    "#menghitung total makanan dari kuesioner ke dictionary\n",
    "fooddict={}\n",
    "for i in foodarr:\n",
    "    #biar engga duplikat\n",
    "    temp=dict.fromkeys(i.split(', '))\n",
    "    #split karena data terpisah oleh koma\n",
    "    for j in temp:\n",
    "        if j in stupidcase:\n",
    "            continue\n",
    "        if j not in specialcasefood:\n",
    "            if j in fooddict:\n",
    "                fooddict[j]=fooddict[j]+1\n",
    "            else:\n",
    "                fooddict[j]=1\n",
    "        else:\n",
    "            entry=specialcasefood[j]\n",
    "            if entry in fooddict:\n",
    "                fooddict[entry]=fooddict[entry]+1\n",
    "            else:\n",
    "                fooddict[entry]=1"
   ]
  },
  {
   "cell_type": "code",
   "execution_count": null,
   "metadata": {},
   "outputs": [],
   "source": [
    "#hasil disortir dari jumlah terbanyak\n",
    "dict(sorted(fooddict.items(), key=lambda item: item[1]))"
   ]
  },
  {
   "cell_type": "code",
   "execution_count": null,
   "metadata": {},
   "outputs": [],
   "source": [
    "#buat kategori makanan yang terindex\n",
    "food_cat=pd.CategoricalIndex(fooddict)\n",
    "#ubah makanan dari nama ke angka\n",
    "hotencoded_foodarr=[]\n",
    "for i in foodarr:\n",
    "    temparr=[]\n",
    "    for j in food_cat:\n",
    "        if j in i.split(', '):\n",
    "            temparr.append(1)\n",
    "        else:\n",
    "            temparr.append(0)\n",
    "    hotencoded_foodarr.append(temparr)"
   ]
  },
  {
   "source": [
    "MINUMAN"
   ],
   "cell_type": "markdown",
   "metadata": {}
  },
  {
   "cell_type": "code",
   "execution_count": null,
   "metadata": {},
   "outputs": [],
   "source": [
    "#ambil baris data makanan\n",
    "drinkarr=data['Kalau jajan di pedagang kecil, Kamu sukanya minuman apa? (Bisa isi lebih dari satu)'].str.lower().str.strip(' ')\n",
    "#drinkarr.unique()\n",
    "#cleaning all the different entry\n",
    "drinkarr=drinkarr.replace(r\"wedang[a-z ]*\",\"wedang\",regex=True)\n",
    "drinkarr=drinkarr.replace(r\"(air[a-z ]*|mineral[a-z ]*|aqua[a-z ]*)\",\"minuman air\",regex=True)\n",
    "drinkarr=drinkarr.replace(r\"([a-z][a-z ]*latte[a-z ]*|capucino[a-z ]*)\",\"kopi\",regex=True)\n",
    "drinkarr=drinkarr.replace(r\"[a-z][a-z ]*jeruk\",\"jus buah\",regex=True)\n",
    "drinkarr=drinkarr.replace(r\"teh[a-z ]*\",\"teh\",regex=True)\n",
    "drinkarr=drinkarr.replace(r\"(pop ice|minuman saset)\",\"soda/soft drink\",regex=True)\n",
    "drinkarr=drinkarr.replace(r\"es boba\",\"bubble tea\",regex=True)\n",
    "drinkarr=drinkarr.replace(r\"susu[a-z ]*\",\"susu\",regex=True)\n",
    "drinkarr=drinkarr.replace(r\"(es degan[a-z ]*|es kelapa[a-z ]*)\",\"air kelapa\",regex=True)\n",
    "drinkarr=drinkarr.replace(r\"random\",\"\",regex=True)"
   ]
  },
  {
   "cell_type": "code",
   "execution_count": null,
   "metadata": {},
   "outputs": [],
   "source": [
    "drinkarr"
   ]
  },
  {
   "cell_type": "code",
   "execution_count": null,
   "metadata": {},
   "outputs": [],
   "source": [
    "drinkdict={}\n",
    "for i in drinkarr:\n",
    "    #biar engga duplikat\n",
    "    temp=dict.fromkeys(i.split(', '))\n",
    "    for j in temp:\n",
    "        if j in stupidcase:\n",
    "            continue\n",
    "        if j not in specialcasedrink:\n",
    "            if j in drinkdict:\n",
    "                drinkdict[j]=drinkdict[j]+1\n",
    "            else:\n",
    "                drinkdict[j]=1\n",
    "        else:\n",
    "            entry=specialcasedrink[j]\n",
    "            if entry in drinkdict:\n",
    "                drinkdict[entry]=drinkdict[entry]+1\n",
    "            else:\n",
    "                drinkdict[entry]=1"
   ]
  },
  {
   "cell_type": "code",
   "execution_count": null,
   "metadata": {},
   "outputs": [],
   "source": [
    "dict(sorted(drinkdict.items(), key=lambda item: item[1]))"
   ]
  },
  {
   "cell_type": "code",
   "execution_count": null,
   "metadata": {},
   "outputs": [],
   "source": [
    "drink_cat=pd.CategoricalIndex(drinkdict)"
   ]
  },
  {
   "cell_type": "code",
   "execution_count": null,
   "metadata": {},
   "outputs": [],
   "source": [
    "hotencoded_drinkarr=[]\n",
    "for i in drinkarr:\n",
    "    temparr=[]\n",
    "    for j in drink_cat:\n",
    "        if j in i.split(', '):\n",
    "            temparr.append(1)\n",
    "        else:\n",
    "            temparr.append(0)\n",
    "    hotencoded_drinkarr.append(temparr)"
   ]
  },
  {
   "cell_type": "code",
   "execution_count": null,
   "metadata": {},
   "outputs": [],
   "source": [
    "dataarr=[]\n",
    "if len(hotencoded_foodarr)==len(hotencoded_drinkarr):\n",
    "    for i in range(len(hotencoded_foodarr)):\n",
    "        dataarr.append(hotencoded_foodarr[i]+hotencoded_drinkarr[i])"
   ]
  },
  {
   "cell_type": "code",
   "execution_count": null,
   "metadata": {},
   "outputs": [],
   "source": [
    "output=pd.DataFrame([range(1,len(hotencoded_drinkarr)+1),dataarr]).T.rename({0:'No',1:'data'},axis=1)"
   ]
  },
  {
   "cell_type": "code",
   "execution_count": null,
   "metadata": {},
   "outputs": [],
   "source": [
    "output.to_csv('hotencoded.csv',index=False)"
   ]
  },
  {
   "cell_type": "code",
   "execution_count": null,
   "metadata": {},
   "outputs": [],
   "source": []
  }
 ]
}