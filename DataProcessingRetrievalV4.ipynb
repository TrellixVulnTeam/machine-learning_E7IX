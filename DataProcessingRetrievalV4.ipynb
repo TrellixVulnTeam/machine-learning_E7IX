{
 "metadata": {
  "language_info": {
   "codemirror_mode": {
    "name": "ipython",
    "version": 3
   },
   "file_extension": ".py",
   "mimetype": "text/x-python",
   "name": "python",
   "nbconvert_exporter": "python",
   "pygments_lexer": "ipython3",
   "version": "3.8.8"
  },
  "orig_nbformat": 2,
  "kernelspec": {
   "name": "python388jvsc74a57bd0f82aa0917fc1d9f74e43b308994278e17c05675470959ef23ed45a89456b150f",
   "display_name": "Python 3.8.8 64-bit ('stupidconda': conda)"
  }
 },
 "nbformat": 4,
 "nbformat_minor": 2,
 "cells": [
  {
   "cell_type": "code",
   "execution_count": 39,
   "metadata": {},
   "outputs": [],
   "source": [
    "import pandas as pd\n",
    "import re\n",
    "import math"
   ]
  },
  {
   "cell_type": "code",
   "execution_count": 2,
   "metadata": {},
   "outputs": [],
   "source": [
    "file_dir='kaki.xlsx'"
   ]
  },
  {
   "cell_type": "code",
   "execution_count": 3,
   "metadata": {},
   "outputs": [],
   "source": [
    "#Kasus spesial yg rada malesin kalo dibuat versi regexnya. Diganti saat dipecah per entry\n",
    "#specialcasefood={'cilok':'aci','cimol':'aci','cilor':'aci','cireng':'aci','cilung':'aci','cakwe':'gorengan lain','basreng':'gorengan lain','sate kikil':'sate','soto':'soto/sop/makanan berkuah lainnya','kebab turki':'kebab'}\n",
    "#array buat kasus khusus yg ribet diganti pake regex\n",
    "specialcasefood={'soto':'soto/sop/makanan berkuah lainnya'}\n",
    "specialcasedrink={}\n",
    "stupidcase=['etc','random','']"
   ]
  },
  {
   "cell_type": "code",
   "execution_count": 4,
   "metadata": {},
   "outputs": [],
   "source": [
    "data=pd.read_excel(file_dir)"
   ]
  },
  {
   "cell_type": "code",
   "execution_count": 5,
   "metadata": {},
   "outputs": [
    {
     "output_type": "execute_result",
     "data": {
      "text/plain": [
       "                  Timestamp           Usia Kota/Kabupaten Domisili  \\\n",
       "0   2021-05-15 08:08:31.854  20 - 30 tahun                   Dompu   \n",
       "1   2021-05-15 15:44:23.585  20 - 30 tahun          Bandar Lampung   \n",
       "2   2021-05-15 15:46:54.095  20 - 30 tahun                 Jakarta   \n",
       "3   2021-05-15 16:12:30.533  20 - 30 tahun                 Bandung   \n",
       "4   2021-05-15 20:29:56.333  20 - 30 tahun                 Bandung   \n",
       "..                      ...            ...                     ...   \n",
       "192 2021-05-19 20:36:51.351  20 - 30 tahun                 Jakarta   \n",
       "193 2021-05-19 23:51:58.865  40 - 50 tahun                  Bekasi   \n",
       "194 2021-05-20 08:15:46.934  20 - 30 tahun                 Jakarta   \n",
       "195 2021-05-20 14:22:43.627  40 - 50 tahun                   Depok   \n",
       "196 2021-05-21 08:42:19.367  10 - 20 tahun                 Jakarta   \n",
       "\n",
       "    Kamu lebih suka jajan di restoran/cafe, pedagang kecil atau dari aplikasi online?  \\\n",
       "0       Pedagang kecil (Kaki lima/kedai pinggir jalan)                                  \n",
       "1                                      Aplikasi online                                  \n",
       "2                                        Restoran/Cafe                                  \n",
       "3       Pedagang kecil (Kaki lima/kedai pinggir jalan)                                  \n",
       "4       Pedagang kecil (Kaki lima/kedai pinggir jalan)                                  \n",
       "..                                                 ...                                  \n",
       "192     Pedagang kecil (Kaki lima/kedai pinggir jalan)                                  \n",
       "193     Pedagang kecil (Kaki lima/kedai pinggir jalan)                                  \n",
       "194     Pedagang kecil (Kaki lima/kedai pinggir jalan)                                  \n",
       "195                                      Restoran/Cafe                                  \n",
       "196     Pedagang kecil (Kaki lima/kedai pinggir jalan)                                  \n",
       "\n",
       "    Seberapa sering kamu jajan dipinggir jalan?  \\\n",
       "0                             3-5 kali seminggu   \n",
       "1                             1-2 kali seminggu   \n",
       "2                             3-5 kali seminggu   \n",
       "3                             3-5 kali seminggu   \n",
       "4                             3-5 kali seminggu   \n",
       "..                                          ...   \n",
       "192            Tidak Pernah/Sangat tidak sering   \n",
       "193                           < 1 kali seminggu   \n",
       "194                           3-5 kali seminggu   \n",
       "195                           < 1 kali seminggu   \n",
       "196                           1-2 kali seminggu   \n",
       "\n",
       "    Kalau jajan di pedagang kecil, biasanya di penjual seperti apa?  \\\n",
       "0                               Kedai/Pedagang menetap                \n",
       "1                     Keliling, Kedai/Pedagang menetap                \n",
       "2                               Kedai/Pedagang menetap                \n",
       "3                     Keliling, Kedai/Pedagang menetap                \n",
       "4                     Keliling, Kedai/Pedagang menetap                \n",
       "..                                                 ...                \n",
       "192                                           Keliling                \n",
       "193                   Keliling, Kedai/Pedagang menetap                \n",
       "194                             Kedai/Pedagang menetap                \n",
       "195                             Kedai/Pedagang menetap                \n",
       "196                   Keliling, Kedai/Pedagang menetap                \n",
       "\n",
       "    Kalau jajan di pedagang kecil, Kamu sukanya jajanan makanan apa? (Bisa isi lebih dari satu)  \\\n",
       "0                                                Sosis                                            \n",
       "1    Nasi goreng, Mie kuah, nasi-nasian, Mie-miean,...                                            \n",
       "2    Nasi goreng, nasi-nasian, Mie-miean, Bakso/Bat...                                            \n",
       "3    Nasi goreng, Mie-miean, Bakso/Batagor/Siomay, ...                                            \n",
       "4    Nasi goreng, Ayam Bakar/Goreng/Fried Chicken, ...                                            \n",
       "..                                                 ...                                            \n",
       "192  Nasi goreng, Buah Potong/Rujak, Roti Bakar/Kuk...                                            \n",
       "193  Nasi goreng, Mie-miean, Bakso/Batagor/Siomay, ...                                            \n",
       "194  Nasi goreng, Mie kuah, nasi-nasian, Mie-miean,...                                            \n",
       "195  Nasi goreng, nasi-nasian, Mie-miean, Bakso/Bat...                                            \n",
       "196  Nasi goreng, nasi-nasian, Bakso/Batagor/Siomay...                                            \n",
       "\n",
       "    Kalau jajan di pedagang kecil, Kamu sukanya minuman apa? (Bisa isi lebih dari satu)  \\\n",
       "0                                                  Teh                                    \n",
       "1        Cendol, Es Campur, Bubble Tea, Susu, Jus Buah                                    \n",
       "2                                Soda/Soft Drink, Susu                                    \n",
       "3    Cendol, Es Campur, Es Doger, Teh, Bubble Tea, ...                                    \n",
       "4                                        Teh, Jus Buah                                    \n",
       "..                                                 ...                                    \n",
       "192  Cendol, Es Campur, Es Doger, Bubble Tea, Susu,...                                    \n",
       "193                                           Jus Buah                                    \n",
       "194  Cendol, Es Campur, Es Doger, Teh, Kopi, Bubble...                                    \n",
       "195                        Cendol, Es Campur, Es Doger                                    \n",
       "196               Es Campur, Teh, Bubble Tea, Jus Buah                                    \n",
       "\n",
       "    Apakah kamu tertarik mendukung pedagang kecil disekelilingmu?  \\\n",
       "0                                                   Ya              \n",
       "1                                                   Ya              \n",
       "2                                                   Ya              \n",
       "3                                                   Ya              \n",
       "4                                                   Ya              \n",
       "..                                                 ...              \n",
       "192                                                 Ya              \n",
       "193                                                 Ya              \n",
       "194                                                 Ya              \n",
       "195                                                 Ya              \n",
       "196                                                 Ya              \n",
       "\n",
       "    Apakah kamu pernah ingin jajan tapi tidak jadi karena suatu alasan? Alasannya apa?  \\\n",
       "0                                         Tidak pernah                                   \n",
       "1    Tidak tahu tempat jajan dimana, Tidak tahu mau...                                   \n",
       "2                       Tidak tahu tempat jajan dimana                                   \n",
       "3    Tidak tahu mau jajan apa, Tidak jadi karena pe...                                   \n",
       "4    Tidak tahu tempat jajan dimana, Tidak tahu mau...                                   \n",
       "..                                                 ...                                   \n",
       "192  Tidak tahu mau jajan apa, Tidak jadi jajan kar...                                   \n",
       "193  Tidak jadi jajan karenanya penjualnya tidak ku...                                   \n",
       "194                                       Tidak pernah                                   \n",
       "195  Tidak tahu tempat jajan dimana, Tidak tahu mau...                                   \n",
       "196  Tidak jadi jajan karenanya penjualnya tidak ku...                                   \n",
       "\n",
       "    Apakah kamu punya tempat jajan kecil yang kamu berlangganan?  \\\n",
       "0                                                   Ya             \n",
       "1                                                   Ya             \n",
       "2                                                   Ya             \n",
       "3                                                   Ya             \n",
       "4                                                Tidak             \n",
       "..                                                 ...             \n",
       "192                                                 Ya             \n",
       "193                                                 Ya             \n",
       "194                                                 Ya             \n",
       "195                                                 Ya             \n",
       "196                                                 Ya             \n",
       "\n",
       "    Menurut kamu, apakah kamu akan lebih sering jajan jika ada aplikasi yang memberitahu kamu jika ada jajanan enak disekitarmu?  \\\n",
       "0                                                   Ya                                                                             \n",
       "1                                                   Ya                                                                             \n",
       "2                                                   Ya                                                                             \n",
       "3                                                   Ya                                                                             \n",
       "4                                                   Ya                                                                             \n",
       "..                                                 ...                                                                             \n",
       "192                                                 Ya                                                                             \n",
       "193                                                 Ya                                                                             \n",
       "194                                                 Ya                                                                             \n",
       "195                                                 Ya                                                                             \n",
       "196                                                 Ya                                                                             \n",
       "\n",
       "    Menurut kamu, apakah kamu akan lebih sering jajan jika aplikasi tersebut memberitahu kamu jika jajanan kamu berkualitas atau tidak?  \\\n",
       "0                                                   Ya                                                                                    \n",
       "1                                                   Ya                                                                                    \n",
       "2                                                   Ya                                                                                    \n",
       "3                                                   Ya                                                                                    \n",
       "4                                                   Ya                                                                                    \n",
       "..                                                 ...                                                                                    \n",
       "192                                                 Ya                                                                                    \n",
       "193                                                 Ya                                                                                    \n",
       "194                                                 Ya                                                                                    \n",
       "195                                                 Ya                                                                                    \n",
       "196                                                 Ya                                                                                    \n",
       "\n",
       "    Apakah tertarik juga untuk berpartisipasi menjadi penjual disana ?  \n",
       "0                                                Tidak                  \n",
       "1                                                Tidak                  \n",
       "2                                                Tidak                  \n",
       "3                                                Tidak                  \n",
       "4                                                   Ya                  \n",
       "..                                                 ...                  \n",
       "192                                                 Ya                  \n",
       "193                                              Tidak                  \n",
       "194                                                 Ya                  \n",
       "195                                                 Ya                  \n",
       "196                                              Tidak                  \n",
       "\n",
       "[197 rows x 14 columns]"
      ],
      "text/html": "<div>\n<style scoped>\n    .dataframe tbody tr th:only-of-type {\n        vertical-align: middle;\n    }\n\n    .dataframe tbody tr th {\n        vertical-align: top;\n    }\n\n    .dataframe thead th {\n        text-align: right;\n    }\n</style>\n<table border=\"1\" class=\"dataframe\">\n  <thead>\n    <tr style=\"text-align: right;\">\n      <th></th>\n      <th>Timestamp</th>\n      <th>Usia</th>\n      <th>Kota/Kabupaten Domisili</th>\n      <th>Kamu lebih suka jajan di restoran/cafe, pedagang kecil atau dari aplikasi online?</th>\n      <th>Seberapa sering kamu jajan dipinggir jalan?</th>\n      <th>Kalau jajan di pedagang kecil, biasanya di penjual seperti apa?</th>\n      <th>Kalau jajan di pedagang kecil, Kamu sukanya jajanan makanan apa? (Bisa isi lebih dari satu)</th>\n      <th>Kalau jajan di pedagang kecil, Kamu sukanya minuman apa? (Bisa isi lebih dari satu)</th>\n      <th>Apakah kamu tertarik mendukung pedagang kecil disekelilingmu?</th>\n      <th>Apakah kamu pernah ingin jajan tapi tidak jadi karena suatu alasan? Alasannya apa?</th>\n      <th>Apakah kamu punya tempat jajan kecil yang kamu berlangganan?</th>\n      <th>Menurut kamu, apakah kamu akan lebih sering jajan jika ada aplikasi yang memberitahu kamu jika ada jajanan enak disekitarmu?</th>\n      <th>Menurut kamu, apakah kamu akan lebih sering jajan jika aplikasi tersebut memberitahu kamu jika jajanan kamu berkualitas atau tidak?</th>\n      <th>Apakah tertarik juga untuk berpartisipasi menjadi penjual disana ?</th>\n    </tr>\n  </thead>\n  <tbody>\n    <tr>\n      <th>0</th>\n      <td>2021-05-15 08:08:31.854</td>\n      <td>20 - 30 tahun</td>\n      <td>Dompu</td>\n      <td>Pedagang kecil (Kaki lima/kedai pinggir jalan)</td>\n      <td>3-5 kali seminggu</td>\n      <td>Kedai/Pedagang menetap</td>\n      <td>Sosis</td>\n      <td>Teh</td>\n      <td>Ya</td>\n      <td>Tidak pernah</td>\n      <td>Ya</td>\n      <td>Ya</td>\n      <td>Ya</td>\n      <td>Tidak</td>\n    </tr>\n    <tr>\n      <th>1</th>\n      <td>2021-05-15 15:44:23.585</td>\n      <td>20 - 30 tahun</td>\n      <td>Bandar Lampung</td>\n      <td>Aplikasi online</td>\n      <td>1-2 kali seminggu</td>\n      <td>Keliling, Kedai/Pedagang menetap</td>\n      <td>Nasi goreng, Mie kuah, nasi-nasian, Mie-miean,...</td>\n      <td>Cendol, Es Campur, Bubble Tea, Susu, Jus Buah</td>\n      <td>Ya</td>\n      <td>Tidak tahu tempat jajan dimana, Tidak tahu mau...</td>\n      <td>Ya</td>\n      <td>Ya</td>\n      <td>Ya</td>\n      <td>Tidak</td>\n    </tr>\n    <tr>\n      <th>2</th>\n      <td>2021-05-15 15:46:54.095</td>\n      <td>20 - 30 tahun</td>\n      <td>Jakarta</td>\n      <td>Restoran/Cafe</td>\n      <td>3-5 kali seminggu</td>\n      <td>Kedai/Pedagang menetap</td>\n      <td>Nasi goreng, nasi-nasian, Mie-miean, Bakso/Bat...</td>\n      <td>Soda/Soft Drink, Susu</td>\n      <td>Ya</td>\n      <td>Tidak tahu tempat jajan dimana</td>\n      <td>Ya</td>\n      <td>Ya</td>\n      <td>Ya</td>\n      <td>Tidak</td>\n    </tr>\n    <tr>\n      <th>3</th>\n      <td>2021-05-15 16:12:30.533</td>\n      <td>20 - 30 tahun</td>\n      <td>Bandung</td>\n      <td>Pedagang kecil (Kaki lima/kedai pinggir jalan)</td>\n      <td>3-5 kali seminggu</td>\n      <td>Keliling, Kedai/Pedagang menetap</td>\n      <td>Nasi goreng, Mie-miean, Bakso/Batagor/Siomay, ...</td>\n      <td>Cendol, Es Campur, Es Doger, Teh, Bubble Tea, ...</td>\n      <td>Ya</td>\n      <td>Tidak tahu mau jajan apa, Tidak jadi karena pe...</td>\n      <td>Ya</td>\n      <td>Ya</td>\n      <td>Ya</td>\n      <td>Tidak</td>\n    </tr>\n    <tr>\n      <th>4</th>\n      <td>2021-05-15 20:29:56.333</td>\n      <td>20 - 30 tahun</td>\n      <td>Bandung</td>\n      <td>Pedagang kecil (Kaki lima/kedai pinggir jalan)</td>\n      <td>3-5 kali seminggu</td>\n      <td>Keliling, Kedai/Pedagang menetap</td>\n      <td>Nasi goreng, Ayam Bakar/Goreng/Fried Chicken, ...</td>\n      <td>Teh, Jus Buah</td>\n      <td>Ya</td>\n      <td>Tidak tahu tempat jajan dimana, Tidak tahu mau...</td>\n      <td>Tidak</td>\n      <td>Ya</td>\n      <td>Ya</td>\n      <td>Ya</td>\n    </tr>\n    <tr>\n      <th>...</th>\n      <td>...</td>\n      <td>...</td>\n      <td>...</td>\n      <td>...</td>\n      <td>...</td>\n      <td>...</td>\n      <td>...</td>\n      <td>...</td>\n      <td>...</td>\n      <td>...</td>\n      <td>...</td>\n      <td>...</td>\n      <td>...</td>\n      <td>...</td>\n    </tr>\n    <tr>\n      <th>192</th>\n      <td>2021-05-19 20:36:51.351</td>\n      <td>20 - 30 tahun</td>\n      <td>Jakarta</td>\n      <td>Pedagang kecil (Kaki lima/kedai pinggir jalan)</td>\n      <td>Tidak Pernah/Sangat tidak sering</td>\n      <td>Keliling</td>\n      <td>Nasi goreng, Buah Potong/Rujak, Roti Bakar/Kuk...</td>\n      <td>Cendol, Es Campur, Es Doger, Bubble Tea, Susu,...</td>\n      <td>Ya</td>\n      <td>Tidak tahu mau jajan apa, Tidak jadi jajan kar...</td>\n      <td>Ya</td>\n      <td>Ya</td>\n      <td>Ya</td>\n      <td>Ya</td>\n    </tr>\n    <tr>\n      <th>193</th>\n      <td>2021-05-19 23:51:58.865</td>\n      <td>40 - 50 tahun</td>\n      <td>Bekasi</td>\n      <td>Pedagang kecil (Kaki lima/kedai pinggir jalan)</td>\n      <td>&lt; 1 kali seminggu</td>\n      <td>Keliling, Kedai/Pedagang menetap</td>\n      <td>Nasi goreng, Mie-miean, Bakso/Batagor/Siomay, ...</td>\n      <td>Jus Buah</td>\n      <td>Ya</td>\n      <td>Tidak jadi jajan karenanya penjualnya tidak ku...</td>\n      <td>Ya</td>\n      <td>Ya</td>\n      <td>Ya</td>\n      <td>Tidak</td>\n    </tr>\n    <tr>\n      <th>194</th>\n      <td>2021-05-20 08:15:46.934</td>\n      <td>20 - 30 tahun</td>\n      <td>Jakarta</td>\n      <td>Pedagang kecil (Kaki lima/kedai pinggir jalan)</td>\n      <td>3-5 kali seminggu</td>\n      <td>Kedai/Pedagang menetap</td>\n      <td>Nasi goreng, Mie kuah, nasi-nasian, Mie-miean,...</td>\n      <td>Cendol, Es Campur, Es Doger, Teh, Kopi, Bubble...</td>\n      <td>Ya</td>\n      <td>Tidak pernah</td>\n      <td>Ya</td>\n      <td>Ya</td>\n      <td>Ya</td>\n      <td>Ya</td>\n    </tr>\n    <tr>\n      <th>195</th>\n      <td>2021-05-20 14:22:43.627</td>\n      <td>40 - 50 tahun</td>\n      <td>Depok</td>\n      <td>Restoran/Cafe</td>\n      <td>&lt; 1 kali seminggu</td>\n      <td>Kedai/Pedagang menetap</td>\n      <td>Nasi goreng, nasi-nasian, Mie-miean, Bakso/Bat...</td>\n      <td>Cendol, Es Campur, Es Doger</td>\n      <td>Ya</td>\n      <td>Tidak tahu tempat jajan dimana, Tidak tahu mau...</td>\n      <td>Ya</td>\n      <td>Ya</td>\n      <td>Ya</td>\n      <td>Ya</td>\n    </tr>\n    <tr>\n      <th>196</th>\n      <td>2021-05-21 08:42:19.367</td>\n      <td>10 - 20 tahun</td>\n      <td>Jakarta</td>\n      <td>Pedagang kecil (Kaki lima/kedai pinggir jalan)</td>\n      <td>1-2 kali seminggu</td>\n      <td>Keliling, Kedai/Pedagang menetap</td>\n      <td>Nasi goreng, nasi-nasian, Bakso/Batagor/Siomay...</td>\n      <td>Es Campur, Teh, Bubble Tea, Jus Buah</td>\n      <td>Ya</td>\n      <td>Tidak jadi jajan karenanya penjualnya tidak ku...</td>\n      <td>Ya</td>\n      <td>Ya</td>\n      <td>Ya</td>\n      <td>Tidak</td>\n    </tr>\n  </tbody>\n</table>\n<p>197 rows × 14 columns</p>\n</div>"
     },
     "metadata": {},
     "execution_count": 5
    }
   ],
   "source": [
    "data"
   ]
  },
  {
   "cell_type": "code",
   "execution_count": 6,
   "metadata": {},
   "outputs": [],
   "source": [
    "#ambil baris data makanan\n",
    "foodarr=data['Kalau jajan di pedagang kecil, Kamu sukanya jajanan makanan apa? (Bisa isi lebih dari satu)'].str.lower().str.strip(' ')\n",
    "#regexing all the stupid entry\n",
    "foodarr=foodarr.replace(r\"ci[a-z]*\",\"aci\",regex=True)\n",
    "foodarr=foodarr.replace(r\"(cakwe|basreng)\",\"gorengan lain\",regex=True)\n",
    "foodarr=foodarr.replace(r\"sate[a-z ]*\",\"sate\",regex=True)\n",
    "#foodarr=foodarr.replace(r\"(soto [a-z ]*|sop [a-z ]*)\",\"soto/sop/makanan berkuah lainnya\",regex=True)\n",
    "foodarr=foodarr.replace(r\"kebab[a-z ]*\",\"kebab\",regex=True)\n",
    "foodarr=foodarr.replace(r\"soto$\",\"soto/sop/makanan berkuah lainnya\",regex=True)"
   ]
  },
  {
   "cell_type": "code",
   "execution_count": 7,
   "metadata": {},
   "outputs": [],
   "source": [
    "#foodarr.unique()"
   ]
  },
  {
   "cell_type": "code",
   "execution_count": 8,
   "metadata": {},
   "outputs": [],
   "source": [
    "#menghitung total makanan dari kuesioner ke dictionary\n",
    "fooddict={}\n",
    "for i in foodarr:\n",
    "    #biar engga duplikat\n",
    "    temp=dict.fromkeys(i.split(', '))\n",
    "    #split karena data terpisah oleh koma\n",
    "    for j in temp:\n",
    "        if j in stupidcase:\n",
    "            continue\n",
    "        if j not in specialcasefood:\n",
    "            if j in fooddict:\n",
    "                fooddict[j]=fooddict[j]+1\n",
    "            else:\n",
    "                fooddict[j]=1\n",
    "        else:\n",
    "            entry=specialcasefood[j]\n",
    "            if entry in fooddict:\n",
    "                fooddict[entry]=fooddict[entry]+1\n",
    "            else:\n",
    "                fooddict[entry]=1"
   ]
  },
  {
   "cell_type": "code",
   "execution_count": 9,
   "metadata": {},
   "outputs": [
    {
     "output_type": "execute_result",
     "data": {
      "text/plain": [
       "{'takoyaki': 1,\n",
       " 'lotek': 1,\n",
       " 'macaroni': 1,\n",
       " 'lumpia basah': 1,\n",
       " 'angkringan': 1,\n",
       " 'dimsum': 1,\n",
       " 'burger': 1,\n",
       " 'kerang ijo': 1,\n",
       " 'asinan': 1,\n",
       " 'sosis': 2,\n",
       " 'martabak': 2,\n",
       " 'aci': 2,\n",
       " 'kebab': 2,\n",
       " 'seblak': 6,\n",
       " 'kacang': 14,\n",
       " 'ubi': 15,\n",
       " 'jagung': 18,\n",
       " 'soto/sop/makanan berkuah lainnya': 34,\n",
       " 'es krim': 42,\n",
       " 'nasi-nasian': 46,\n",
       " 'buah potong/rujak': 46,\n",
       " 'tahu': 46,\n",
       " 'mie kuah': 55,\n",
       " 'roti bakar/kukus': 56,\n",
       " 'kue-kue': 63,\n",
       " 'ayam bakar/goreng/fried chicken': 89,\n",
       " 'mie-miean': 93,\n",
       " 'bubur': 99,\n",
       " 'gorengan lain': 99,\n",
       " 'sate': 114,\n",
       " 'nasi goreng': 143,\n",
       " 'bakso/batagor/siomay': 154}"
      ]
     },
     "metadata": {},
     "execution_count": 9
    }
   ],
   "source": [
    "#hasil disortir dari jumlah terbanyak\n",
    "dict(sorted(fooddict.items(), key=lambda item: item[1]))"
   ]
  },
  {
   "cell_type": "code",
   "execution_count": 10,
   "metadata": {},
   "outputs": [],
   "source": [
    "#buat kategori makanan yang terindex\n",
    "food_cat=pd.CategoricalIndex(fooddict)\n",
    "#ubah makanan dari nama ke angka\n",
    "hotencoded_foodarr=[]\n",
    "for i in foodarr:\n",
    "    temparr=[]\n",
    "    for j in food_cat:\n",
    "        if j in i.split(', '):\n",
    "            temparr.append(1)\n",
    "        else:\n",
    "            temparr.append(0)\n",
    "    hotencoded_foodarr.append(temparr)"
   ]
  },
  {
   "source": [
    "MINUMAN"
   ],
   "cell_type": "markdown",
   "metadata": {}
  },
  {
   "cell_type": "code",
   "execution_count": 11,
   "metadata": {},
   "outputs": [],
   "source": [
    "#ambil baris data makanan\n",
    "drinkarr=data['Kalau jajan di pedagang kecil, Kamu sukanya minuman apa? (Bisa isi lebih dari satu)'].str.lower().str.strip(' ')\n",
    "#drinkarr.unique()\n",
    "#cleaning all the different entry\n",
    "drinkarr=drinkarr.replace(r\"wedang[a-z ]*\",\"wedang\",regex=True)\n",
    "drinkarr=drinkarr.replace(r\"(air[a-z ]*|mineral[a-z ]*|aqua[a-z ]*)\",\"minuman air\",regex=True)\n",
    "drinkarr=drinkarr.replace(r\"([a-z][a-z ]*latte[a-z ]*|capucino[a-z ]*)\",\"kopi\",regex=True)\n",
    "drinkarr=drinkarr.replace(r\"[a-z][a-z ]*jeruk\",\"jus buah\",regex=True)\n",
    "drinkarr=drinkarr.replace(r\"teh[a-z ]*\",\"teh\",regex=True)\n",
    "drinkarr=drinkarr.replace(r\"(pop ice|minuman saset)\",\"soda/soft drink\",regex=True)\n",
    "drinkarr=drinkarr.replace(r\"es boba\",\"bubble tea\",regex=True)\n",
    "drinkarr=drinkarr.replace(r\"susu[a-z ]*\",\"susu\",regex=True)\n",
    "drinkarr=drinkarr.replace(r\"(es degan[a-z ]*|es kelapa[a-z ]*)\",\"air kelapa\",regex=True)\n",
    "drinkarr=drinkarr.replace(r\"random\",\"\",regex=True)"
   ]
  },
  {
   "cell_type": "code",
   "execution_count": 12,
   "metadata": {},
   "outputs": [
    {
     "output_type": "execute_result",
     "data": {
      "text/plain": [
       "0                                                    teh\n",
       "1          cendol, es campur, bubble tea, susu, jus buah\n",
       "2                                  soda/soft drink, susu\n",
       "3      cendol, es campur, es doger, teh, bubble tea, ...\n",
       "4                                          teh, jus buah\n",
       "                             ...                        \n",
       "192    cendol, es campur, es doger, bubble tea, susu,...\n",
       "193                                             jus buah\n",
       "194    cendol, es campur, es doger, teh, kopi, bubble...\n",
       "195                          cendol, es campur, es doger\n",
       "196                 es campur, teh, bubble tea, jus buah\n",
       "Name: Kalau jajan di pedagang kecil, Kamu sukanya minuman apa? (Bisa isi lebih dari satu), Length: 197, dtype: object"
      ]
     },
     "metadata": {},
     "execution_count": 12
    }
   ],
   "source": [
    "drinkarr"
   ]
  },
  {
   "cell_type": "code",
   "execution_count": 13,
   "metadata": {},
   "outputs": [],
   "source": [
    "drinkdict={}\n",
    "for i in drinkarr:\n",
    "    #biar engga duplikat\n",
    "    temp=dict.fromkeys(i.split(', '))\n",
    "    for j in temp:\n",
    "        if j in stupidcase:\n",
    "            continue\n",
    "        if j not in specialcasedrink:\n",
    "            if j in drinkdict:\n",
    "                drinkdict[j]=drinkdict[j]+1\n",
    "            else:\n",
    "                drinkdict[j]=1\n",
    "        else:\n",
    "            entry=specialcasedrink[j]\n",
    "            if entry in drinkdict:\n",
    "                drinkdict[entry]=drinkdict[entry]+1\n",
    "            else:\n",
    "                drinkdict[entry]=1"
   ]
  },
  {
   "cell_type": "code",
   "execution_count": 14,
   "metadata": {},
   "outputs": [
    {
     "output_type": "execute_result",
     "data": {
      "text/plain": [
       "{'wedang': 1,\n",
       " 'cincau': 1,\n",
       " 'air kelapa': 2,\n",
       " 'minuman air': 12,\n",
       " 'soda/soft drink': 39,\n",
       " 'kopi': 45,\n",
       " 'es doger': 53,\n",
       " 'bubble tea': 57,\n",
       " 'susu': 61,\n",
       " 'cendol': 73,\n",
       " 'es campur': 74,\n",
       " 'teh': 92,\n",
       " 'jus buah': 97}"
      ]
     },
     "metadata": {},
     "execution_count": 14
    }
   ],
   "source": [
    "dict(sorted(drinkdict.items(), key=lambda item: item[1]))"
   ]
  },
  {
   "cell_type": "code",
   "execution_count": 15,
   "metadata": {},
   "outputs": [],
   "source": [
    "drink_cat=pd.CategoricalIndex(drinkdict)"
   ]
  },
  {
   "cell_type": "code",
   "execution_count": 16,
   "metadata": {},
   "outputs": [],
   "source": [
    "hotencoded_drinkarr=[]\n",
    "for i in drinkarr:\n",
    "    temparr=[]\n",
    "    for j in drink_cat:\n",
    "        if j in i.split(', '):\n",
    "            temparr.append(1)\n",
    "        else:\n",
    "            temparr.append(0)\n",
    "    hotencoded_drinkarr.append(temparr)"
   ]
  },
  {
   "cell_type": "code",
   "execution_count": 17,
   "metadata": {},
   "outputs": [],
   "source": [
    "dataarr=[]\n",
    "if len(hotencoded_foodarr)==len(hotencoded_drinkarr):\n",
    "    for i in range(len(hotencoded_foodarr)):\n",
    "        dataarr.append(hotencoded_foodarr[i]+hotencoded_drinkarr[i])"
   ]
  },
  {
   "cell_type": "code",
   "execution_count": 48,
   "metadata": {},
   "outputs": [],
   "source": [
    "label=[]\n",
    "rating=[]\n",
    "for i in range(len(hotencoded_foodarr)):\n",
    "    for j in range(len(hotencoded_foodarr[i])):\n",
    "        label.append(food_cat[j])\n",
    "        if hotencoded_foodarr[i][j]:\n",
    "            rate=5\n",
    "        else:\n",
    "            rate=1\n",
    "        rating.append(rate)\n",
    "    for j in range(len(hotencoded_drinkarr[i])):\n",
    "        label.append(drink_cat[j])\n",
    "        if hotencoded_drinkarr[i][j]:\n",
    "            rate=5\n",
    "        else:\n",
    "            rate=1\n",
    "        rating.append(rate)"
   ]
  },
  {
   "cell_type": "code",
   "execution_count": 49,
   "metadata": {},
   "outputs": [],
   "source": [
    "userid=[]\n",
    "for i in range(len(label)):\n",
    "    userid.append(math.floor(i/45))"
   ]
  },
  {
   "cell_type": "code",
   "execution_count": 53,
   "metadata": {},
   "outputs": [],
   "source": [
    "output=pd.DataFrame([userid,label,rating]).T.rename({0:'userID',1:'movieID',2:'rating'},axis=1)"
   ]
  },
  {
   "cell_type": "code",
   "execution_count": 55,
   "metadata": {},
   "outputs": [],
   "source": [
    "output.to_csv('RetrievalV4.csv',index=False)"
   ]
  },
  {
   "cell_type": "code",
   "execution_count": null,
   "metadata": {},
   "outputs": [],
   "source": []
  }
 ]
}