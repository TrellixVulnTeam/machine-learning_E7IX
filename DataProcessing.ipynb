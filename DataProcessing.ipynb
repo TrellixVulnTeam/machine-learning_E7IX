{
 "metadata": {
  "language_info": {
   "codemirror_mode": {
    "name": "ipython",
    "version": 3
   },
   "file_extension": ".py",
   "mimetype": "text/x-python",
   "name": "python",
   "nbconvert_exporter": "python",
   "pygments_lexer": "ipython3",
   "version": "3.7.6"
  },
  "orig_nbformat": 2,
  "kernelspec": {
   "name": "python376jvsc74a57bd0b6f25d253e9ef28c30dd30f43d7aceaf3b35d139b818aef12eb4cd0f93e2e018",
   "display_name": "Python 3.7.6 64-bit ('base': conda)"
  }
 },
 "nbformat": 4,
 "nbformat_minor": 2,
 "cells": [
  {
   "cell_type": "code",
   "execution_count": null,
   "metadata": {},
   "outputs": [],
   "source": [
    "import pandas as pd\n",
    "import re"
   ]
  },
  {
   "cell_type": "code",
   "execution_count": null,
   "metadata": {},
   "outputs": [],
   "source": [
    "#specialcasefood={'cilok':'aci','cimol':'aci','cilor':'aci','cireng':'aci','cilung':'aci','cakwe':'gorengan lain','basreng':'gorengan lain','sate kikil':'sate','soto':'soto/sop/makanan berkuah lainnya','kebab turki':'kebab'}\n",
    "#array buat kasus khusus yg ribet diganti pake regex\n",
    "specialcasefood={'soto':'soto/sop/makanan berkuah lainnya'}\n",
    "specialcasedrink={}\n",
    "stupidcase=['etc','random','']"
   ]
  },
  {
   "cell_type": "code",
   "execution_count": null,
   "metadata": {},
   "outputs": [],
   "source": [
    "file_dir='kaki.xlsx'"
   ]
  },
  {
   "cell_type": "code",
   "execution_count": null,
   "metadata": {},
   "outputs": [],
   "source": [
    "data=pd.read_excel(file_dir)"
   ]
  },
  {
   "cell_type": "code",
   "execution_count": null,
   "metadata": {},
   "outputs": [],
   "source": [
    "data"
   ]
  },
  {
   "cell_type": "code",
   "execution_count": null,
   "metadata": {},
   "outputs": [],
   "source": [
    "#converting into array per entry\n",
    "foodarr=data['Kalau jajan di pedagang kecil, Kamu sukanya jajanan makanan apa? (Bisa isi lebih dari satu)'].str.lower().str.strip(' ')\n",
    "#regexing all the stupid entry\n",
    "foodarr=foodarr.replace(r\"ci[a-z]*\",\"aci\",regex=True)\n",
    "foodarr=foodarr.replace(r\"(cakwe|basreng)\",\"gorengan lain\",regex=True)\n",
    "foodarr=foodarr.replace(r\"sate[a-z ]*\",\"sate\",regex=True)\n",
    "#foodarr=foodarr.replace(r\"(soto [a-z ]*|sop [a-z ]*)\",\"soto/sop/makanan berkuah lainnya\",regex=True)\n",
    "foodarr=foodarr.replace(r\"kebab[a-z ]*\",\"kebab\",regex=True)\n",
    "foodarr=foodarr.replace(r\"soto$\",\"soto/sop/makanan berkuah lainnya\",regex=True)"
   ]
  },
  {
   "cell_type": "code",
   "execution_count": null,
   "metadata": {},
   "outputs": [],
   "source": [
    "#foodarr.unique()"
   ]
  },
  {
   "cell_type": "code",
   "execution_count": null,
   "metadata": {},
   "outputs": [],
   "source": [
    "#menghitung total makanan dari kuesioner ke dictionary\n",
    "fooddict={}\n",
    "for i in foodarr:\n",
    "    #biar engga duplikat\n",
    "    temp=dict.fromkeys(i.split(', '))\n",
    "    #split karena data terpisah oleh koma\n",
    "    for j in temp:\n",
    "        if j in stupidcase:\n",
    "            continue\n",
    "        if j not in specialcasefood:\n",
    "            if j in fooddict:\n",
    "                fooddict[j]=fooddict[j]+1\n",
    "            else:\n",
    "                fooddict[j]=1\n",
    "        else:\n",
    "            entry=specialcasefood[j]\n",
    "            if entry in fooddict:\n",
    "                fooddict[entry]=fooddict[entry]+1\n",
    "            else:\n",
    "                fooddict[entry]=1"
   ]
  },
  {
   "cell_type": "code",
   "execution_count": null,
   "metadata": {},
   "outputs": [],
   "source": [
    "dict(sorted(fooddict.items(), key=lambda item: item[1]))"
   ]
  },
  {
   "cell_type": "code",
   "execution_count": null,
   "metadata": {},
   "outputs": [],
   "source": [
    "food_cat=pd.CategoricalIndex(fooddict)"
   ]
  },
  {
   "cell_type": "code",
   "execution_count": null,
   "metadata": {},
   "outputs": [],
   "source": [
    "numbered_foodarr=[]\n",
    "for i in foodarr:\n",
    "    #print('baris ',i)\n",
    "    temparr=[]\n",
    "    for j in i.split(', '):\n",
    "        if j in stupidcase:\n",
    "            continue\n",
    "        temparr.append(food_cat.get_loc(j))\n",
    "    numbered_foodarr.append(temparr)"
   ]
  },
  {
   "source": [
    "MINUMAN"
   ],
   "cell_type": "markdown",
   "metadata": {}
  },
  {
   "cell_type": "code",
   "execution_count": null,
   "metadata": {},
   "outputs": [],
   "source": [
    "drinkarr=data['Kalau jajan di pedagang kecil, Kamu sukanya minuman apa? (Bisa isi lebih dari satu)'].str.lower().str.strip(' ')\n",
    "#drinkarr.unique()"
   ]
  },
  {
   "cell_type": "code",
   "execution_count": null,
   "metadata": {},
   "outputs": [],
   "source": [
    "#replacing all the different entry\n",
    "drinkarr=drinkarr.replace(r\"wedang[a-z ]*\",\"wedang\",regex=True)\n",
    "drinkarr=drinkarr.replace(r\"(air[a-z ]*|mineral[a-z ]*|aqua[a-z ]*)\",\"minuman air\",regex=True)\n",
    "drinkarr=drinkarr.replace(r\"([a-z][a-z ]*latte[a-z ]*|capucino[a-z ]*)\",\"kopi\",regex=True)\n",
    "drinkarr=drinkarr.replace(r\"[a-z][a-z ]*jeruk\",\"jus buah\",regex=True)\n",
    "drinkarr=drinkarr.replace(r\"teh[a-z ]*\",\"teh\",regex=True)\n",
    "drinkarr=drinkarr.replace(r\"(pop ice|minuman saset)\",\"soda/soft drink\",regex=True)\n",
    "drinkarr=drinkarr.replace(r\"es boba\",\"bubble tea\",regex=True)\n",
    "drinkarr=drinkarr.replace(r\"susu[a-z ]*\",\"susu\",regex=True)\n",
    "drinkarr=drinkarr.replace(r\"(es degan[a-z ]*|es kelapa[a-z ]*)\",\"air kelapa\",regex=True)\n",
    "drinkarr=drinkarr.replace(r\"random\",\"\",regex=True)"
   ]
  },
  {
   "cell_type": "code",
   "execution_count": null,
   "metadata": {},
   "outputs": [],
   "source": [
    "drinkarr"
   ]
  },
  {
   "cell_type": "code",
   "execution_count": null,
   "metadata": {},
   "outputs": [],
   "source": [
    "drinkdict={}\n",
    "for i in drinkarr:\n",
    "    #biar engga duplikat\n",
    "    temp=dict.fromkeys(i.split(', '))\n",
    "    for j in temp:\n",
    "        if j in stupidcase:\n",
    "            continue\n",
    "        if j not in specialcasedrink:\n",
    "            if j in drinkdict:\n",
    "                drinkdict[j]=drinkdict[j]+1\n",
    "            else:\n",
    "                drinkdict[j]=1\n",
    "        else:\n",
    "            entry=specialcasedrink[j]\n",
    "            if entry in drinkdict:\n",
    "                drinkdict[entry]=drinkdict[entry]+1\n",
    "            else:\n",
    "                drinkdict[entry]=1"
   ]
  },
  {
   "cell_type": "code",
   "execution_count": null,
   "metadata": {},
   "outputs": [],
   "source": [
    "dict(sorted(drinkdict.items(), key=lambda item: item[1]))"
   ]
  },
  {
   "cell_type": "code",
   "execution_count": null,
   "metadata": {},
   "outputs": [],
   "source": [
    "drink_cat=pd.CategoricalIndex(drinkdict)"
   ]
  },
  {
   "cell_type": "code",
   "execution_count": null,
   "metadata": {},
   "outputs": [],
   "source": [
    "numbered_drinkarr=[]\n",
    "for i in drinkarr:\n",
    "    #print('baris ',i)\n",
    "    temparr=[]\n",
    "    for j in i.split(', '):\n",
    "        if j in stupidcase:\n",
    "            continue\n",
    "        temparr.append(drink_cat.get_loc(j))\n",
    "    numbered_drinkarr.append(temparr)"
   ]
  },
  {
   "cell_type": "code",
   "execution_count": null,
   "metadata": {},
   "outputs": [],
   "source": [
    "output=pd.DataFrame([range(1,len(numbered_drinkarr)+1),numbered_foodarr,numbered_drinkarr]).T.rename({0:'No',1:'makanan',2:'minuman'},axis=1)"
   ]
  },
  {
   "cell_type": "code",
   "execution_count": null,
   "metadata": {},
   "outputs": [],
   "source": [
    "output.to_csv('output.csv',index=False)"
   ]
  }
 ]
}